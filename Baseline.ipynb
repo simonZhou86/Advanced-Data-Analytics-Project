{
  "nbformat": 4,
  "nbformat_minor": 0,
  "metadata": {
    "colab": {
      "name": "Baseline.ipynb",
      "provenance": []
    },
    "kernelspec": {
      "name": "python3",
      "display_name": "Python 3"
    },
    "language_info": {
      "name": "python"
    }
  },
  "cells": [
    {
      "cell_type": "markdown",
      "metadata": {
        "id": "66ui5xKeiOeb"
      },
      "source": [
        "# Baseline Models"
      ]
    },
    {
      "cell_type": "code",
      "metadata": {
        "colab": {
          "base_uri": "https://localhost:8080/"
        },
        "id": "ntn2_QJ-VngO",
        "outputId": "888684eb-018e-45eb-8e6d-afef9320f429"
      },
      "source": [
        "# packages\n",
        "import collections\n",
        "from PIL import Image\n",
        "import pandas as pd\n",
        "from tqdm.notebook import tqdm\n",
        "import os\n",
        "import matplotlib.pyplot as plt\n",
        "import seaborn as sns\n",
        "import tensorflow as tf\n",
        "from tensorflow import keras\n",
        "from tensorflow.keras.models import Sequential, Model\n",
        "from tensorflow.keras import layers, models\n",
        "from tensorflow.keras.layers import Conv2D, Flatten, Dense, Dropout, Input, BatchNormalization\n",
        "from keras.preprocessing.image import ImageDataGenerator\n",
        "from keras.applications.vgg16 import VGG16\n",
        "from keras.applications.resnet50 import ResNet50\n",
        "from keras.applications.inception_v3 import InceptionV3\n",
        "import keras.backend as K\n",
        "from keras.callbacks import Callback\n",
        "import datetime\n",
        "import cv2\n",
        "from google.colab.patches import cv2_imshow\n",
        "import numpy as np\n",
        "import io\n",
        "from skimage.transform import resize\n",
        "from skimage import color\n",
        "from skimage import io\n",
        "from sklearn.model_selection import train_test_split, RandomizedSearchCV, GridSearchCV\n",
        "from tensorflow.keras.layers.experimental.preprocessing import CenterCrop\n",
        "from tensorflow.keras.layers.experimental.preprocessing import Rescaling\n",
        "from sklearn.model_selection import StratifiedKFold\n",
        "from sklearn.ensemble import RandomForestClassifier\n",
        "from sklearn.neighbors import KNeighborsClassifier\n",
        "from sklearn.metrics import precision_recall_fscore_support\n",
        "from sklearn.metrics import accuracy_score, classification_report, confusion_matrix\n",
        "from sklearn.utils import class_weight\n",
        "from sklearn.metrics import plot_confusion_matrix\n",
        "import imgaug.augmenters as im_aug\n",
        "%matplotlib inline\n",
        "print(\"finish loading!\")"
      ],
      "execution_count": null,
      "outputs": [
        {
          "output_type": "stream",
          "text": [
            "finish loading!\n"
          ],
          "name": "stdout"
        }
      ]
    },
    {
      "cell_type": "markdown",
      "metadata": {
        "id": "mUrjajqPT2st"
      },
      "source": [
        "## Non NN Model w/o Data Aug."
      ]
    },
    {
      "cell_type": "markdown",
      "metadata": {
        "id": "Js2pGwbcUIic"
      },
      "source": [
        "### Random Forest"
      ]
    },
    {
      "cell_type": "code",
      "metadata": {
        "id": "_3bQrToTGjSh"
      },
      "source": [
        "path_var = '/content/drive/MyDrive/data/' \n",
        "images = np.load(path_var + 'images_origin.npy') # read data\n",
        "labels = np.load(path_var + 'labels.npy')\n",
        "image_names = np.load(path_var + 'image_names.npy')"
      ],
      "execution_count": null,
      "outputs": []
    },
    {
      "cell_type": "code",
      "metadata": {
        "id": "qBG0met02T9F"
      },
      "source": [
        "def print_results(results): # function for print hyperparameter value and model accuracy\n",
        "    print('BEST PARAMS: {}\\n'.format(results.best_params_))\n",
        "\n",
        "    means = results.cv_results_['mean_test_score']\n",
        "    stds = results.cv_results_['std_test_score']\n",
        "    for mean, std, params in zip(means, stds, results.cv_results_['params']):\n",
        "        print('{} (+/-{}) for {}'.format(round(mean, 3), round(std * 2, 3), params))"
      ],
      "execution_count": null,
      "outputs": []
    },
    {
      "cell_type": "code",
      "metadata": {
        "id": "06RuXdNA2Vew"
      },
      "source": [
        "num_img, xdim, ydim, channel = images.shape\n",
        "x_nonNN = images.reshape((num_img, xdim * ydim * channel)) # reshape to 2d array"
      ],
      "execution_count": null,
      "outputs": []
    },
    {
      "cell_type": "code",
      "metadata": {
        "id": "cefPTnEvOKqj",
        "colab": {
          "base_uri": "https://localhost:8080/"
        },
        "outputId": "7dd06d35-ccf0-4ed9-f095-34bae5894e9d"
      },
      "source": [
        "x_nonNN_train, x_nonNN_valid, y_nonNN_train, y_nonNN_valid = train_test_split(x_nonNN, labels, stratify = labels) # keep the balance of the data (class weight)\n",
        "print(x_nonNN_train.shape, y_nonNN_train.shape)\n",
        "print(x_nonNN_valid.shape, y_nonNN_valid.shape)"
      ],
      "execution_count": null,
      "outputs": [
        {
          "output_type": "stream",
          "text": [
            "(447, 196608) (447,)\n",
            "(150, 196608) (150,)\n"
          ],
          "name": "stdout"
        }
      ]
    },
    {
      "cell_type": "code",
      "metadata": {
        "id": "JVjkV7Cft19O",
        "colab": {
          "base_uri": "https://localhost:8080/"
        },
        "outputId": "c17c02fb-51ba-47bf-c8d7-2018b97e36c1"
      },
      "source": [
        "rfcl = RandomForestClassifier(criterion=\"entropy\")\n",
        "parameters = {\n",
        "    'n_estimators': [300, 500],\n",
        "    'max_features': [3, 5, 7],\n",
        "    'min_samples_leaf': [1, 3, 5]\n",
        "}\n",
        "\n",
        "rf_cv = RandomizedSearchCV(rfcl, parameters, verbose = 3, cv = 5)\n",
        "rf_cv.fit(x_nonNN_train, y_nonNN_train)\n",
        "\n",
        "print_results(rf_cv)\n",
        "\n",
        "y_pred = rf_cv.predict(x_nonNN_valid)\n",
        "print(\"The confusion matrix is: \")\n",
        "print(confusion_matrix(y_nonNN_valid, y_pred))\n",
        "\n",
        "precision, recall, f1, support = precision_recall_fscore_support(y_nonNN_valid, y_pred, average='macro')\n",
        "print(\"precision score: %.2f\" % (precision))\n",
        "print(\"recall score: %.2f\" % (recall))\n",
        "print(\"f1 score: %.2f\" % (f1))\n"
      ],
      "execution_count": null,
      "outputs": [
        {
          "output_type": "stream",
          "text": [
            "Fitting 5 folds for each of 10 candidates, totalling 50 fits\n",
            "[CV] n_estimators=500, min_samples_leaf=1, max_features=5 ............\n"
          ],
          "name": "stdout"
        },
        {
          "output_type": "stream",
          "text": [
            "[Parallel(n_jobs=1)]: Using backend SequentialBackend with 1 concurrent workers.\n"
          ],
          "name": "stderr"
        },
        {
          "output_type": "stream",
          "text": [
            "[CV]  n_estimators=500, min_samples_leaf=1, max_features=5, score=0.578, total=   1.9s\n",
            "[CV] n_estimators=500, min_samples_leaf=1, max_features=5 ............\n"
          ],
          "name": "stdout"
        },
        {
          "output_type": "stream",
          "text": [
            "[Parallel(n_jobs=1)]: Done   1 out of   1 | elapsed:    1.9s remaining:    0.0s\n"
          ],
          "name": "stderr"
        },
        {
          "output_type": "stream",
          "text": [
            "[CV]  n_estimators=500, min_samples_leaf=1, max_features=5, score=0.522, total=   1.9s\n",
            "[CV] n_estimators=500, min_samples_leaf=1, max_features=5 ............\n"
          ],
          "name": "stdout"
        },
        {
          "output_type": "stream",
          "text": [
            "[Parallel(n_jobs=1)]: Done   2 out of   2 | elapsed:    3.8s remaining:    0.0s\n"
          ],
          "name": "stderr"
        },
        {
          "output_type": "stream",
          "text": [
            "[CV]  n_estimators=500, min_samples_leaf=1, max_features=5, score=0.573, total=   1.9s\n",
            "[CV] n_estimators=500, min_samples_leaf=1, max_features=5 ............\n",
            "[CV]  n_estimators=500, min_samples_leaf=1, max_features=5, score=0.573, total=   1.8s\n",
            "[CV] n_estimators=500, min_samples_leaf=1, max_features=5 ............\n",
            "[CV]  n_estimators=500, min_samples_leaf=1, max_features=5, score=0.596, total=   1.8s\n",
            "[CV] n_estimators=300, min_samples_leaf=1, max_features=5 ............\n",
            "[CV]  n_estimators=300, min_samples_leaf=1, max_features=5, score=0.556, total=   1.2s\n",
            "[CV] n_estimators=300, min_samples_leaf=1, max_features=5 ............\n",
            "[CV]  n_estimators=300, min_samples_leaf=1, max_features=5, score=0.533, total=   1.2s\n",
            "[CV] n_estimators=300, min_samples_leaf=1, max_features=5 ............\n",
            "[CV]  n_estimators=300, min_samples_leaf=1, max_features=5, score=0.562, total=   1.2s\n",
            "[CV] n_estimators=300, min_samples_leaf=1, max_features=5 ............\n",
            "[CV]  n_estimators=300, min_samples_leaf=1, max_features=5, score=0.596, total=   1.2s\n",
            "[CV] n_estimators=300, min_samples_leaf=1, max_features=5 ............\n",
            "[CV]  n_estimators=300, min_samples_leaf=1, max_features=5, score=0.596, total=   1.1s\n",
            "[CV] n_estimators=300, min_samples_leaf=3, max_features=5 ............\n",
            "[CV]  n_estimators=300, min_samples_leaf=3, max_features=5, score=0.533, total=   1.1s\n",
            "[CV] n_estimators=300, min_samples_leaf=3, max_features=5 ............\n",
            "[CV]  n_estimators=300, min_samples_leaf=3, max_features=5, score=0.544, total=   1.1s\n",
            "[CV] n_estimators=300, min_samples_leaf=3, max_features=5 ............\n",
            "[CV]  n_estimators=300, min_samples_leaf=3, max_features=5, score=0.539, total=   1.1s\n",
            "[CV] n_estimators=300, min_samples_leaf=3, max_features=5 ............\n",
            "[CV]  n_estimators=300, min_samples_leaf=3, max_features=5, score=0.573, total=   1.1s\n",
            "[CV] n_estimators=300, min_samples_leaf=3, max_features=5 ............\n",
            "[CV]  n_estimators=300, min_samples_leaf=3, max_features=5, score=0.562, total=   1.1s\n",
            "[CV] n_estimators=500, min_samples_leaf=5, max_features=3 ............\n",
            "[CV]  n_estimators=500, min_samples_leaf=5, max_features=3, score=0.511, total=   1.3s\n",
            "[CV] n_estimators=500, min_samples_leaf=5, max_features=3 ............\n",
            "[CV]  n_estimators=500, min_samples_leaf=5, max_features=3, score=0.533, total=   1.3s\n",
            "[CV] n_estimators=500, min_samples_leaf=5, max_features=3 ............\n",
            "[CV]  n_estimators=500, min_samples_leaf=5, max_features=3, score=0.539, total=   1.4s\n",
            "[CV] n_estimators=500, min_samples_leaf=5, max_features=3 ............\n",
            "[CV]  n_estimators=500, min_samples_leaf=5, max_features=3, score=0.607, total=   1.3s\n",
            "[CV] n_estimators=500, min_samples_leaf=5, max_features=3 ............\n",
            "[CV]  n_estimators=500, min_samples_leaf=5, max_features=3, score=0.539, total=   1.3s\n",
            "[CV] n_estimators=500, min_samples_leaf=1, max_features=3 ............\n",
            "[CV]  n_estimators=500, min_samples_leaf=1, max_features=3, score=0.567, total=   1.5s\n",
            "[CV] n_estimators=500, min_samples_leaf=1, max_features=3 ............\n",
            "[CV]  n_estimators=500, min_samples_leaf=1, max_features=3, score=0.544, total=   1.5s\n",
            "[CV] n_estimators=500, min_samples_leaf=1, max_features=3 ............\n",
            "[CV]  n_estimators=500, min_samples_leaf=1, max_features=3, score=0.562, total=   1.5s\n",
            "[CV] n_estimators=500, min_samples_leaf=1, max_features=3 ............\n",
            "[CV]  n_estimators=500, min_samples_leaf=1, max_features=3, score=0.618, total=   1.6s\n",
            "[CV] n_estimators=500, min_samples_leaf=1, max_features=3 ............\n",
            "[CV]  n_estimators=500, min_samples_leaf=1, max_features=3, score=0.607, total=   1.5s\n",
            "[CV] n_estimators=500, min_samples_leaf=3, max_features=5 ............\n",
            "[CV]  n_estimators=500, min_samples_leaf=3, max_features=5, score=0.533, total=   1.7s\n",
            "[CV] n_estimators=500, min_samples_leaf=3, max_features=5 ............\n",
            "[CV]  n_estimators=500, min_samples_leaf=3, max_features=5, score=0.533, total=   1.7s\n",
            "[CV] n_estimators=500, min_samples_leaf=3, max_features=5 ............\n",
            "[CV]  n_estimators=500, min_samples_leaf=3, max_features=5, score=0.551, total=   1.8s\n",
            "[CV] n_estimators=500, min_samples_leaf=3, max_features=5 ............\n",
            "[CV]  n_estimators=500, min_samples_leaf=3, max_features=5, score=0.584, total=   1.7s\n",
            "[CV] n_estimators=500, min_samples_leaf=3, max_features=5 ............\n",
            "[CV]  n_estimators=500, min_samples_leaf=3, max_features=5, score=0.584, total=   1.8s\n",
            "[CV] n_estimators=500, min_samples_leaf=3, max_features=7 ............\n",
            "[CV]  n_estimators=500, min_samples_leaf=3, max_features=7, score=0.544, total=   2.2s\n",
            "[CV] n_estimators=500, min_samples_leaf=3, max_features=7 ............\n",
            "[CV]  n_estimators=500, min_samples_leaf=3, max_features=7, score=0.511, total=   2.0s\n",
            "[CV] n_estimators=500, min_samples_leaf=3, max_features=7 ............\n",
            "[CV]  n_estimators=500, min_samples_leaf=3, max_features=7, score=0.551, total=   2.0s\n",
            "[CV] n_estimators=500, min_samples_leaf=3, max_features=7 ............\n",
            "[CV]  n_estimators=500, min_samples_leaf=3, max_features=7, score=0.562, total=   2.1s\n",
            "[CV] n_estimators=500, min_samples_leaf=3, max_features=7 ............\n",
            "[CV]  n_estimators=500, min_samples_leaf=3, max_features=7, score=0.573, total=   2.1s\n",
            "[CV] n_estimators=300, min_samples_leaf=3, max_features=7 ............\n",
            "[CV]  n_estimators=300, min_samples_leaf=3, max_features=7, score=0.544, total=   1.3s\n",
            "[CV] n_estimators=300, min_samples_leaf=3, max_features=7 ............\n",
            "[CV]  n_estimators=300, min_samples_leaf=3, max_features=7, score=0.533, total=   1.3s\n",
            "[CV] n_estimators=300, min_samples_leaf=3, max_features=7 ............\n",
            "[CV]  n_estimators=300, min_samples_leaf=3, max_features=7, score=0.528, total=   1.3s\n",
            "[CV] n_estimators=300, min_samples_leaf=3, max_features=7 ............\n",
            "[CV]  n_estimators=300, min_samples_leaf=3, max_features=7, score=0.584, total=   1.3s\n",
            "[CV] n_estimators=300, min_samples_leaf=3, max_features=7 ............\n",
            "[CV]  n_estimators=300, min_samples_leaf=3, max_features=7, score=0.573, total=   1.3s\n",
            "[CV] n_estimators=300, min_samples_leaf=1, max_features=7 ............\n",
            "[CV]  n_estimators=300, min_samples_leaf=1, max_features=7, score=0.567, total=   1.4s\n",
            "[CV] n_estimators=300, min_samples_leaf=1, max_features=7 ............\n",
            "[CV]  n_estimators=300, min_samples_leaf=1, max_features=7, score=0.533, total=   1.4s\n",
            "[CV] n_estimators=300, min_samples_leaf=1, max_features=7 ............\n",
            "[CV]  n_estimators=300, min_samples_leaf=1, max_features=7, score=0.551, total=   1.4s\n",
            "[CV] n_estimators=300, min_samples_leaf=1, max_features=7 ............\n",
            "[CV]  n_estimators=300, min_samples_leaf=1, max_features=7, score=0.562, total=   1.4s\n",
            "[CV] n_estimators=300, min_samples_leaf=1, max_features=7 ............\n",
            "[CV]  n_estimators=300, min_samples_leaf=1, max_features=7, score=0.607, total=   1.4s\n",
            "[CV] n_estimators=300, min_samples_leaf=3, max_features=3 ............\n",
            "[CV]  n_estimators=300, min_samples_leaf=3, max_features=3, score=0.533, total=   0.9s\n",
            "[CV] n_estimators=300, min_samples_leaf=3, max_features=3 ............\n",
            "[CV]  n_estimators=300, min_samples_leaf=3, max_features=3, score=0.500, total=   1.0s\n",
            "[CV] n_estimators=300, min_samples_leaf=3, max_features=3 ............\n",
            "[CV]  n_estimators=300, min_samples_leaf=3, max_features=3, score=0.539, total=   0.9s\n",
            "[CV] n_estimators=300, min_samples_leaf=3, max_features=3 ............\n",
            "[CV]  n_estimators=300, min_samples_leaf=3, max_features=3, score=0.584, total=   1.0s\n",
            "[CV] n_estimators=300, min_samples_leaf=3, max_features=3 ............\n",
            "[CV]  n_estimators=300, min_samples_leaf=3, max_features=3, score=0.551, total=   0.9s\n"
          ],
          "name": "stdout"
        },
        {
          "output_type": "stream",
          "text": [
            "[Parallel(n_jobs=1)]: Done  50 out of  50 | elapsed:  1.2min finished\n"
          ],
          "name": "stderr"
        },
        {
          "output_type": "stream",
          "text": [
            "BEST PARAMS: {'n_estimators': 500, 'min_samples_leaf': 1, 'max_features': 3}\n",
            "\n",
            "0.568 (+/-0.049) for {'n_estimators': 500, 'min_samples_leaf': 1, 'max_features': 5}\n",
            "0.568 (+/-0.048) for {'n_estimators': 300, 'min_samples_leaf': 1, 'max_features': 5}\n",
            "0.55 (+/-0.03) for {'n_estimators': 300, 'min_samples_leaf': 3, 'max_features': 5}\n",
            "0.546 (+/-0.064) for {'n_estimators': 500, 'min_samples_leaf': 5, 'max_features': 3}\n",
            "0.58 (+/-0.056) for {'n_estimators': 500, 'min_samples_leaf': 1, 'max_features': 3}\n",
            "0.557 (+/-0.046) for {'n_estimators': 500, 'min_samples_leaf': 3, 'max_features': 5}\n",
            "0.548 (+/-0.042) for {'n_estimators': 500, 'min_samples_leaf': 3, 'max_features': 7}\n",
            "0.553 (+/-0.044) for {'n_estimators': 300, 'min_samples_leaf': 3, 'max_features': 7}\n",
            "0.564 (+/-0.049) for {'n_estimators': 300, 'min_samples_leaf': 1, 'max_features': 7}\n",
            "0.541 (+/-0.054) for {'n_estimators': 300, 'min_samples_leaf': 3, 'max_features': 3}\n",
            "The confusion matrix is: \n",
            "[[ 4 15  1  1]\n",
            " [ 1 65  1  7]\n",
            " [ 1 13  1  3]\n",
            " [ 0 28  0  9]]\n",
            "precision score: 0.50\n",
            "recall score: 0.34\n",
            "f1 score: 0.34\n"
          ],
          "name": "stdout"
        }
      ]
    },
    {
      "cell_type": "markdown",
      "metadata": {
        "id": "dKOUk3nDnkdL"
      },
      "source": [
        "### KNN"
      ]
    },
    {
      "cell_type": "code",
      "metadata": {
        "id": "nSi40-b8nmdf",
        "colab": {
          "base_uri": "https://localhost:8080/"
        },
        "outputId": "762187d3-0fa6-4644-f249-3bb04e527a81"
      },
      "source": [
        "knncl = KNeighborsClassifier(n_neighbors=30, p=2)\n",
        "# use euclidean distance\n",
        "# parameters = {\n",
        "#   'n_neighbors': [30, 35, 40],\n",
        "#  'weights': [\"uniform\", \"distance\"],\n",
        "#}\n",
        "\n",
        "#knn_cv = RandomizedSearchCV(knncl, parameters, verbose = 3, cv = 5)\n",
        "knncl.fit(x_nonNN_train, y_nonNN_train)\n",
        "\n",
        "#print_results(knncl)\n",
        "\n",
        "y_pred=knncl.predict(x_nonNN_valid)\n",
        "print(\"The confusion matrix is: \")\n",
        "print(confusion_matrix(y_nonNN_valid,y_pred))\n",
        "\n",
        "precision,recall,f1,support=precision_recall_fscore_support(y_nonNN_valid,y_pred, average='macro')\n",
        "accuracy=accuracy_score(y_nonNN_valid, y_pred)\n",
        "print(accuracy)"
      ],
      "execution_count": null,
      "outputs": [
        {
          "output_type": "stream",
          "text": [
            "The confusion matrix is: \n",
            "[[ 1 19  0  1]\n",
            " [ 0 71  0  3]\n",
            " [ 1 15  0  2]\n",
            " [ 0 30  0  7]]\n",
            "0.5266666666666666\n"
          ],
          "name": "stdout"
        },
        {
          "output_type": "stream",
          "text": [
            "/usr/local/lib/python3.7/dist-packages/sklearn/metrics/_classification.py:1272: UndefinedMetricWarning: Precision and F-score are ill-defined and being set to 0.0 in labels with no predicted samples. Use `zero_division` parameter to control this behavior.\n",
            "  _warn_prf(average, modifier, msg_start, len(result))\n"
          ],
          "name": "stderr"
        }
      ]
    },
    {
      "cell_type": "markdown",
      "metadata": {
        "id": "keQpZZwstqXR"
      },
      "source": [
        "## NN Model Baseline w/o Aug:"
      ]
    },
    {
      "cell_type": "markdown",
      "metadata": {
        "id": "ziTZOhOiuPGx"
      },
      "source": [
        "### Load data for NN:"
      ]
    },
    {
      "cell_type": "code",
      "metadata": {
        "id": "uA12bvicuR1N"
      },
      "source": [
        "path_var = '/content/drive/MyDrive/project_data/' \n",
        "images = np.load(path_var + 'images_origin.npy')\n",
        "labels = np.load(path_var + 'labels.npy')\n",
        "image_names = np.load(path_var + 'image_names.npy')\n"
      ],
      "execution_count": null,
      "outputs": []
    },
    {
      "cell_type": "code",
      "metadata": {
        "colab": {
          "base_uri": "https://localhost:8080/"
        },
        "id": "GW98jqiku6Vl",
        "outputId": "bf7a5d6b-6899-4c84-890c-46bdc94795c2"
      },
      "source": [
        "print(images.shape, labels.shape, len(image_names))"
      ],
      "execution_count": null,
      "outputs": [
        {
          "output_type": "stream",
          "text": [
            "(597, 256, 256, 3) (597,) 597\n"
          ],
          "name": "stdout"
        }
      ]
    },
    {
      "cell_type": "code",
      "metadata": {
        "id": "fDL8gqy1u-bI",
        "colab": {
          "base_uri": "https://localhost:8080/"
        },
        "outputId": "0d8475e1-9fc6-485b-e7cd-48c223c13bf3"
      },
      "source": [
        "print(np.min(images), np.max(images))"
      ],
      "execution_count": null,
      "outputs": [
        {
          "output_type": "stream",
          "text": [
            "0.0 1.0\n"
          ],
          "name": "stdout"
        }
      ]
    },
    {
      "cell_type": "code",
      "metadata": {
        "id": "TOvAI7hvv0Qa"
      },
      "source": [
        "labels_cat = keras.utils.to_categorical(labels, 4)\n"
      ],
      "execution_count": null,
      "outputs": []
    },
    {
      "cell_type": "code",
      "metadata": {
        "colab": {
          "base_uri": "https://localhost:8080/"
        },
        "id": "Npk4bx3fwA-1",
        "outputId": "a5948372-d3cf-4c49-e809-d22580501414"
      },
      "source": [
        "labels_cat"
      ],
      "execution_count": null,
      "outputs": [
        {
          "output_type": "execute_result",
          "data": {
            "text/plain": [
              "array([[0., 0., 0., 1.],\n",
              "       [0., 0., 1., 0.],\n",
              "       [0., 1., 0., 0.],\n",
              "       ...,\n",
              "       [0., 1., 0., 0.],\n",
              "       [0., 1., 0., 0.],\n",
              "       [0., 0., 0., 1.]], dtype=float32)"
            ]
          },
          "metadata": {
            "tags": []
          },
          "execution_count": 10
        }
      ]
    },
    {
      "cell_type": "code",
      "metadata": {
        "colab": {
          "base_uri": "https://localhost:8080/"
        },
        "id": "I5wAiU6l4A9l",
        "outputId": "a2063d14-0deb-4f6c-fb9d-0a4684610ec0"
      },
      "source": [
        "test_label = np.argmax(labels_cat,axis=-1) # change back to original\n",
        "test_label"
      ],
      "execution_count": null,
      "outputs": [
        {
          "output_type": "execute_result",
          "data": {
            "text/plain": [
              "array([3, 2, 1, 3, 3, 0, 3, 1, 1, 2, 1, 1, 3, 3, 3, 2, 0, 1, 1, 3, 1, 1,\n",
              "       0, 3, 1, 3, 0, 1, 1, 1, 1, 1, 1, 1, 1, 1, 2, 3, 1, 1, 1, 3, 1, 2,\n",
              "       3, 1, 1, 1, 3, 2, 1, 1, 2, 1, 1, 2, 0, 1, 3, 1, 1, 1, 1, 2, 0, 3,\n",
              "       3, 1, 2, 3, 1, 1, 2, 3, 1, 2, 1, 0, 1, 2, 1, 2, 1, 3, 2, 1, 1, 0,\n",
              "       1, 0, 1, 3, 1, 2, 3, 1, 1, 1, 2, 1, 1, 1, 1, 1, 3, 1, 1, 1, 3, 1,\n",
              "       1, 3, 1, 1, 0, 3, 0, 1, 1, 1, 1, 3, 1, 1, 1, 1, 0, 2, 0, 2, 2, 1,\n",
              "       3, 1, 0, 2, 3, 1, 1, 3, 1, 3, 1, 3, 3, 1, 1, 1, 0, 2, 1, 1, 3, 3,\n",
              "       3, 3, 1, 0, 1, 0, 1, 0, 1, 1, 1, 0, 1, 1, 0, 3, 1, 0, 2, 1, 2, 1,\n",
              "       1, 0, 3, 1, 0, 0, 2, 0, 3, 0, 2, 1, 0, 0, 0, 1, 1, 2, 3, 1, 2, 1,\n",
              "       0, 1, 1, 1, 3, 1, 0, 3, 0, 3, 1, 1, 0, 2, 0, 1, 1, 3, 1, 1, 1, 1,\n",
              "       3, 1, 0, 1, 3, 1, 1, 2, 1, 1, 1, 3, 0, 1, 1, 1, 1, 1, 1, 1, 3, 1,\n",
              "       1, 1, 3, 1, 1, 0, 1, 0, 3, 1, 3, 3, 3, 1, 3, 1, 3, 1, 0, 0, 3, 1,\n",
              "       1, 1, 2, 1, 1, 3, 3, 1, 1, 3, 0, 2, 0, 1, 2, 1, 1, 3, 3, 1, 3, 1,\n",
              "       2, 3, 3, 2, 3, 0, 1, 1, 1, 1, 1, 3, 0, 1, 0, 1, 1, 1, 1, 1, 1, 1,\n",
              "       3, 3, 2, 1, 0, 1, 2, 1, 1, 1, 3, 1, 2, 1, 1, 0, 1, 3, 3, 0, 1, 1,\n",
              "       1, 1, 3, 0, 1, 1, 3, 3, 3, 1, 1, 1, 0, 0, 1, 1, 2, 3, 1, 1, 1, 0,\n",
              "       3, 1, 3, 2, 3, 0, 1, 1, 3, 2, 3, 1, 1, 1, 3, 1, 3, 1, 3, 1, 0, 1,\n",
              "       3, 1, 1, 1, 2, 3, 1, 1, 3, 2, 2, 3, 2, 3, 3, 1, 3, 3, 3, 1, 1, 0,\n",
              "       0, 1, 1, 1, 0, 2, 3, 3, 3, 3, 1, 1, 0, 3, 3, 1, 3, 1, 3, 1, 1, 1,\n",
              "       3, 1, 1, 3, 1, 1, 3, 1, 0, 3, 3, 1, 2, 1, 0, 1, 1, 2, 2, 2, 1, 1,\n",
              "       2, 3, 1, 2, 2, 1, 3, 1, 1, 1, 0, 1, 1, 0, 1, 1, 3, 3, 3, 3, 0, 0,\n",
              "       2, 0, 2, 2, 3, 2, 3, 1, 1, 1, 1, 3, 3, 2, 2, 1, 0, 3, 1, 1, 1, 2,\n",
              "       0, 0, 1, 0, 3, 2, 1, 1, 0, 2, 1, 1, 2, 1, 3, 0, 2, 3, 1, 1, 1, 1,\n",
              "       3, 1, 0, 3, 1, 1, 3, 0, 3, 3, 3, 1, 1, 1, 1, 3, 1, 1, 1, 1, 3, 1,\n",
              "       2, 1, 1, 1, 3, 3, 1, 3, 0, 1, 1, 1, 3, 1, 3, 1, 3, 2, 0, 3, 1, 3,\n",
              "       1, 3, 0, 1, 3, 1, 1, 2, 0, 2, 1, 3, 3, 1, 1, 2, 1, 0, 0, 1, 1, 1,\n",
              "       3, 2, 3, 0, 1, 3, 3, 1, 1, 3, 1, 1, 1, 1, 0, 1, 2, 1, 3, 0, 0, 3,\n",
              "       1, 1, 3])"
            ]
          },
          "metadata": {
            "tags": []
          },
          "execution_count": 25
        }
      ]
    },
    {
      "cell_type": "code",
      "metadata": {
        "id": "qm0z2hGywDFl"
      },
      "source": [
        "x_train, x_test, y_train, y_test = train_test_split(images, labels.astype(int), test_size=0.2, random_state=42, stratify=labels.astype(int))"
      ],
      "execution_count": null,
      "outputs": []
    },
    {
      "cell_type": "code",
      "metadata": {
        "colab": {
          "base_uri": "https://localhost:8080/"
        },
        "id": "_L1di6qOyxEP",
        "outputId": "f9688800-d3e3-4245-c37a-339ddd7be66d"
      },
      "source": [
        "print(x_train.shape, x_test.shape, y_train.shape, y_test.shape)"
      ],
      "execution_count": null,
      "outputs": [
        {
          "output_type": "stream",
          "text": [
            "(477, 256, 256, 3) (120, 256, 256, 3) (477,) (120,)\n"
          ],
          "name": "stdout"
        }
      ]
    },
    {
      "cell_type": "code",
      "metadata": {
        "id": "v93AHY87y2a2"
      },
      "source": [
        "y_train = keras.utils.to_categorical(y_train, 4)\n",
        "y_test = keras.utils.to_categorical(y_test, 4)"
      ],
      "execution_count": null,
      "outputs": []
    },
    {
      "cell_type": "code",
      "metadata": {
        "id": "cKNzJ73xSiDf"
      },
      "source": [
        "def to_categorical(target):\n",
        "  target = keras.utils.to_categorical(y_train, 4)\n",
        "  return target"
      ],
      "execution_count": null,
      "outputs": []
    },
    {
      "cell_type": "code",
      "metadata": {
        "colab": {
          "base_uri": "https://localhost:8080/"
        },
        "id": "qYjAV9nwzYMO",
        "outputId": "1fa60a23-e160-45ae-b67c-65665f6c6b51"
      },
      "source": [
        "print(y_train.shape, y_test.shape)"
      ],
      "execution_count": null,
      "outputs": [
        {
          "output_type": "stream",
          "text": [
            "(477, 4) (120, 4)\n"
          ],
          "name": "stdout"
        }
      ]
    },
    {
      "cell_type": "markdown",
      "metadata": {
        "id": "ZsRXCpm-TBDR"
      },
      "source": [
        "### VGG16:"
      ]
    },
    {
      "cell_type": "code",
      "metadata": {
        "colab": {
          "base_uri": "https://localhost:8080/"
        },
        "id": "uHq7qYnEzbQn",
        "outputId": "9b7223ca-6c6d-42a5-be1b-f5404896fb65"
      },
      "source": [
        "base_model = VGG16(weights='imagenet', include_top=False, input_shape=(256, 256, 3))\n",
        "x = base_model.output\n",
        "x = Flatten()(x)\n",
        "x = Dense(512, activation='relu')(x)\n",
        "x = Dense(4, activation='softmax')(x)\n",
        "\n",
        "model_vgg_pre = Model(base_model.input,x)\n",
        "for layer in base_model.layers:\n",
        "  layer.trainable = False\n",
        "\n",
        "model_vgg_pre.compile(optimizer = keras.optimizers.Adam(learning_rate=0.0000001), loss = 'categorical_crossentropy', metrics=[keras.metrics.CategoricalAccuracy()])\n",
        "\n",
        "model_vgg_pre.summary()"
      ],
      "execution_count": null,
      "outputs": [
        {
          "output_type": "stream",
          "text": [
            "Model: \"model_1\"\n",
            "_________________________________________________________________\n",
            "Layer (type)                 Output Shape              Param #   \n",
            "=================================================================\n",
            "input_5 (InputLayer)         [(None, 256, 256, 3)]     0         \n",
            "_________________________________________________________________\n",
            "block1_conv1 (Conv2D)        (None, 256, 256, 64)      1792      \n",
            "_________________________________________________________________\n",
            "block1_conv2 (Conv2D)        (None, 256, 256, 64)      36928     \n",
            "_________________________________________________________________\n",
            "block1_pool (MaxPooling2D)   (None, 128, 128, 64)      0         \n",
            "_________________________________________________________________\n",
            "block2_conv1 (Conv2D)        (None, 128, 128, 128)     73856     \n",
            "_________________________________________________________________\n",
            "block2_conv2 (Conv2D)        (None, 128, 128, 128)     147584    \n",
            "_________________________________________________________________\n",
            "block2_pool (MaxPooling2D)   (None, 64, 64, 128)       0         \n",
            "_________________________________________________________________\n",
            "block3_conv1 (Conv2D)        (None, 64, 64, 256)       295168    \n",
            "_________________________________________________________________\n",
            "block3_conv2 (Conv2D)        (None, 64, 64, 256)       590080    \n",
            "_________________________________________________________________\n",
            "block3_conv3 (Conv2D)        (None, 64, 64, 256)       590080    \n",
            "_________________________________________________________________\n",
            "block3_pool (MaxPooling2D)   (None, 32, 32, 256)       0         \n",
            "_________________________________________________________________\n",
            "block4_conv1 (Conv2D)        (None, 32, 32, 512)       1180160   \n",
            "_________________________________________________________________\n",
            "block4_conv2 (Conv2D)        (None, 32, 32, 512)       2359808   \n",
            "_________________________________________________________________\n",
            "block4_conv3 (Conv2D)        (None, 32, 32, 512)       2359808   \n",
            "_________________________________________________________________\n",
            "block4_pool (MaxPooling2D)   (None, 16, 16, 512)       0         \n",
            "_________________________________________________________________\n",
            "block5_conv1 (Conv2D)        (None, 16, 16, 512)       2359808   \n",
            "_________________________________________________________________\n",
            "block5_conv2 (Conv2D)        (None, 16, 16, 512)       2359808   \n",
            "_________________________________________________________________\n",
            "block5_conv3 (Conv2D)        (None, 16, 16, 512)       2359808   \n",
            "_________________________________________________________________\n",
            "block5_pool (MaxPooling2D)   (None, 8, 8, 512)         0         \n",
            "_________________________________________________________________\n",
            "flatten_4 (Flatten)          (None, 32768)             0         \n",
            "_________________________________________________________________\n",
            "dense_8 (Dense)              (None, 512)               16777728  \n",
            "_________________________________________________________________\n",
            "dense_9 (Dense)              (None, 4)                 2052      \n",
            "=================================================================\n",
            "Total params: 31,494,468\n",
            "Trainable params: 16,779,780\n",
            "Non-trainable params: 14,714,688\n",
            "_________________________________________________________________\n"
          ],
          "name": "stdout"
        }
      ]
    },
    {
      "cell_type": "code",
      "metadata": {
        "colab": {
          "base_uri": "https://localhost:8080/"
        },
        "id": "b5lWmGiW1NRZ",
        "outputId": "f6f4bd6a-1909-45e8-a18e-6193b9756126"
      },
      "source": [
        "history_vgg_pre = model_vgg_pre.fit(x_train, y_train, validation_data=(x_test, y_test), epochs=20, batch_size=4, verbose=2)"
      ],
      "execution_count": null,
      "outputs": [
        {
          "output_type": "stream",
          "text": [
            "Epoch 1/20\n",
            "120/120 - 7s - loss: 1.4326 - categorical_accuracy: 0.2495 - val_loss: 1.3771 - val_categorical_accuracy: 0.2500\n",
            "Epoch 2/20\n",
            "120/120 - 4s - loss: 1.3384 - categorical_accuracy: 0.2495 - val_loss: 1.3058 - val_categorical_accuracy: 0.2500\n",
            "Epoch 3/20\n",
            "120/120 - 4s - loss: 1.2841 - categorical_accuracy: 0.4486 - val_loss: 1.2653 - val_categorical_accuracy: 0.4917\n",
            "Epoch 4/20\n",
            "120/120 - 4s - loss: 1.2540 - categorical_accuracy: 0.4927 - val_loss: 1.2445 - val_categorical_accuracy: 0.4917\n",
            "Epoch 5/20\n",
            "120/120 - 4s - loss: 1.2387 - categorical_accuracy: 0.4927 - val_loss: 1.2338 - val_categorical_accuracy: 0.4917\n",
            "Epoch 6/20\n",
            "120/120 - 4s - loss: 1.2314 - categorical_accuracy: 0.4927 - val_loss: 1.2292 - val_categorical_accuracy: 0.4917\n",
            "Epoch 7/20\n",
            "120/120 - 4s - loss: 1.2273 - categorical_accuracy: 0.4927 - val_loss: 1.2264 - val_categorical_accuracy: 0.4917\n",
            "Epoch 8/20\n",
            "120/120 - 4s - loss: 1.2253 - categorical_accuracy: 0.4927 - val_loss: 1.2248 - val_categorical_accuracy: 0.4917\n",
            "Epoch 9/20\n",
            "120/120 - 4s - loss: 1.2246 - categorical_accuracy: 0.4927 - val_loss: 1.2245 - val_categorical_accuracy: 0.4917\n",
            "Epoch 10/20\n",
            "120/120 - 4s - loss: 1.2242 - categorical_accuracy: 0.4927 - val_loss: 1.2240 - val_categorical_accuracy: 0.4917\n",
            "Epoch 11/20\n",
            "120/120 - 4s - loss: 1.2239 - categorical_accuracy: 0.4927 - val_loss: 1.2237 - val_categorical_accuracy: 0.4917\n",
            "Epoch 12/20\n",
            "120/120 - 4s - loss: 1.2239 - categorical_accuracy: 0.4927 - val_loss: 1.2235 - val_categorical_accuracy: 0.4917\n",
            "Epoch 13/20\n",
            "120/120 - 4s - loss: 1.2234 - categorical_accuracy: 0.4927 - val_loss: 1.2234 - val_categorical_accuracy: 0.4917\n",
            "Epoch 14/20\n",
            "120/120 - 4s - loss: 1.2235 - categorical_accuracy: 0.4927 - val_loss: 1.2233 - val_categorical_accuracy: 0.4917\n",
            "Epoch 15/20\n",
            "120/120 - 4s - loss: 1.2235 - categorical_accuracy: 0.4927 - val_loss: 1.2232 - val_categorical_accuracy: 0.4917\n",
            "Epoch 16/20\n",
            "120/120 - 4s - loss: 1.2238 - categorical_accuracy: 0.4927 - val_loss: 1.2232 - val_categorical_accuracy: 0.4917\n",
            "Epoch 17/20\n",
            "120/120 - 4s - loss: 1.2234 - categorical_accuracy: 0.4927 - val_loss: 1.2232 - val_categorical_accuracy: 0.4917\n",
            "Epoch 18/20\n",
            "120/120 - 4s - loss: 1.2236 - categorical_accuracy: 0.4927 - val_loss: 1.2231 - val_categorical_accuracy: 0.4917\n",
            "Epoch 19/20\n",
            "120/120 - 4s - loss: 1.2233 - categorical_accuracy: 0.4927 - val_loss: 1.2232 - val_categorical_accuracy: 0.4917\n",
            "Epoch 20/20\n",
            "120/120 - 4s - loss: 1.2234 - categorical_accuracy: 0.4927 - val_loss: 1.2232 - val_categorical_accuracy: 0.4917\n"
          ],
          "name": "stdout"
        }
      ]
    },
    {
      "cell_type": "code",
      "metadata": {
        "colab": {
          "base_uri": "https://localhost:8080/"
        },
        "id": "dJ_ZrMtd3b_I",
        "outputId": "7ab5a25f-b5ca-434e-a14c-d9aa61aab631"
      },
      "source": [
        "model_vgg_pre.evaluate(x_test, y_test)"
      ],
      "execution_count": null,
      "outputs": [
        {
          "output_type": "stream",
          "text": [
            "4/4 [==============================] - 1s 141ms/step - loss: 1.2232 - categorical_accuracy: 0.4917\n"
          ],
          "name": "stdout"
        },
        {
          "output_type": "execute_result",
          "data": {
            "text/plain": [
              "[1.2231930494308472, 0.49166667461395264]"
            ]
          },
          "metadata": {
            "tags": []
          },
          "execution_count": 24
        }
      ]
    },
    {
      "cell_type": "code",
      "metadata": {
        "id": "eR9J_TKKS3TL"
      },
      "source": [
        "def inverse_categorical(target):\n",
        "  target = np.argmax(pred,axis=-1)\n",
        "  return target"
      ],
      "execution_count": null,
      "outputs": []
    },
    {
      "cell_type": "code",
      "metadata": {
        "id": "Wkbnp6FO3iEf"
      },
      "source": [
        "pred = model_vgg_pre.predict(x_test)\n",
        "y_true = np.argmax(y_test, axis = -1)\n",
        "pred = np.argmax(pred,axis=-1)"
      ],
      "execution_count": null,
      "outputs": []
    },
    {
      "cell_type": "code",
      "metadata": {
        "colab": {
          "base_uri": "https://localhost:8080/",
          "height": 401
        },
        "id": "xgsDbEaG5FF_",
        "outputId": "ca1c163c-5363-4533-92df-b2111d6da718"
      },
      "source": [
        "cm = confusion_matrix(y_true, pred)\n",
        "import itertools\n",
        "# note - this confusion matrix code was taken from https://deeplizard.com/learn/video/km7pxKy4UHU\n",
        "def plot_confusion_matrix(cm, classes, title='VGG 16 Confusion Matrix', cmap=plt.cm.Blues):\n",
        "    \"\"\"\n",
        "    This function prints and plots the confusion matrix.\n",
        "    Normalization can be applied by setting `normalize=True`.\n",
        "    \"\"\"\n",
        "    plt.imshow(cm, interpolation='nearest', cmap=cmap)\n",
        "    plt.title(title)\n",
        "    plt.colorbar()\n",
        "    tick_marks = np.arange(len(classes))\n",
        "    plt.xticks(tick_marks, classes, rotation=45)\n",
        "    plt.yticks(tick_marks, classes)\n",
        "\n",
        "    print(\"Confusion matrix of test data\")\n",
        "    print(cm)\n",
        "\n",
        "    thresh = cm.max() / 2.\n",
        "    for i, j in itertools.product(range(cm.shape[0]), range(cm.shape[1])):\n",
        "        plt.text(j, i, cm[i, j],\n",
        "            horizontalalignment=\"center\",\n",
        "            color=\"white\" if cm[i, j] > thresh else \"black\")\n",
        "\n",
        "    plt.tight_layout()\n",
        "    plt.ylabel('True label')\n",
        "    plt.xlabel('Predicted label')\n",
        "plot_confusion_matrix(cm,['Cofield','Depuy','Tornier','Zimmer'])"
      ],
      "execution_count": null,
      "outputs": [
        {
          "output_type": "stream",
          "text": [
            "Confusion matrix of test data\n",
            "[[ 0 17  0  0]\n",
            " [ 0 59  0  0]\n",
            " [ 0 14  0  0]\n",
            " [ 0 30  0  0]]\n"
          ],
          "name": "stdout"
        },
        {
          "output_type": "display_data",
          "data": {
            "image/png": "[encoded data removed]",
            "text/plain": [
              "<Figure size 432x288 with 2 Axes>"
            ]
          },
          "metadata": {
            "tags": [],
            "needs_background": "light"
          }
        }
      ]
    },
    {
      "cell_type": "markdown",
      "metadata": {
        "id": "2X8S6FIQTD65"
      },
      "source": [
        "### ResNet50:"
      ]
    },
    {
      "cell_type": "code",
      "metadata": {
        "colab": {
          "base_uri": "https://localhost:8080/"
        },
        "id": "Icgxv19hS9hR",
        "outputId": "46bd72ad-4cc6-4990-f6d5-52cda3820cb2"
      },
      "source": [
        "# reference: https://zhuanlan.zhihu.com/p/54289848\n",
        "base_model_resnet = ResNet50(include_top=False, weights=\"imagenet\", input_shape=(256, 256, 3), pooling=\"avg\")\n",
        "\n",
        "output = base_model_resnet.output\n",
        "for layer in base_model_resnet.layers:\n",
        "  layer.trainable = False\n",
        "y = Dense(4, activation='softmax')(output)\n",
        "model_resnet_pre = Model(base_model_resnet.input,y)\n",
        "\n",
        "model_resnet_pre.compile(optimizer = keras.optimizers.Adam(learning_rate=0.00001), loss = 'categorical_crossentropy', metrics=[keras.metrics.CategoricalAccuracy()])\n",
        "\n",
        "model_resnet_pre.summary()"
      ],
      "execution_count": null,
      "outputs": [
        {
          "output_type": "stream",
          "text": [
            "Model: \"model_3\"\n",
            "__________________________________________________________________________________________________\n",
            "Layer (type)                    Output Shape         Param #     Connected to                     \n",
            "==================================================================================================\n",
            "input_7 (InputLayer)            [(None, 256, 256, 3) 0                                            \n",
            "__________________________________________________________________________________________________\n",
            "conv1_pad (ZeroPadding2D)       (None, 262, 262, 3)  0           input_7[0][0]                    \n",
            "__________________________________________________________________________________________________\n",
            "conv1_conv (Conv2D)             (None, 128, 128, 64) 9472        conv1_pad[0][0]                  \n",
            "__________________________________________________________________________________________________\n",
            "conv1_bn (BatchNormalization)   (None, 128, 128, 64) 256         conv1_conv[0][0]                 \n",
            "__________________________________________________________________________________________________\n",
            "conv1_relu (Activation)         (None, 128, 128, 64) 0           conv1_bn[0][0]                   \n",
            "__________________________________________________________________________________________________\n",
            "pool1_pad (ZeroPadding2D)       (None, 130, 130, 64) 0           conv1_relu[0][0]                 \n",
            "__________________________________________________________________________________________________\n",
            "pool1_pool (MaxPooling2D)       (None, 64, 64, 64)   0           pool1_pad[0][0]                  \n",
            "__________________________________________________________________________________________________\n",
            "conv2_block1_1_conv (Conv2D)    (None, 64, 64, 64)   4160        pool1_pool[0][0]                 \n",
            "__________________________________________________________________________________________________\n",
            "conv2_block1_1_bn (BatchNormali (None, 64, 64, 64)   256         conv2_block1_1_conv[0][0]        \n",
            "__________________________________________________________________________________________________\n",
            "conv2_block1_1_relu (Activation (None, 64, 64, 64)   0           conv2_block1_1_bn[0][0]          \n",
            "__________________________________________________________________________________________________\n",
            "conv2_block1_2_conv (Conv2D)    (None, 64, 64, 64)   36928       conv2_block1_1_relu[0][0]        \n",
            "__________________________________________________________________________________________________\n",
            "conv2_block1_2_bn (BatchNormali (None, 64, 64, 64)   256         conv2_block1_2_conv[0][0]        \n",
            "__________________________________________________________________________________________________\n",
            "conv2_block1_2_relu (Activation (None, 64, 64, 64)   0           conv2_block1_2_bn[0][0]          \n",
            "__________________________________________________________________________________________________\n",
            "conv2_block1_0_conv (Conv2D)    (None, 64, 64, 256)  16640       pool1_pool[0][0]                 \n",
            "__________________________________________________________________________________________________\n",
            "conv2_block1_3_conv (Conv2D)    (None, 64, 64, 256)  16640       conv2_block1_2_relu[0][0]        \n",
            "__________________________________________________________________________________________________\n",
            "conv2_block1_0_bn (BatchNormali (None, 64, 64, 256)  1024        conv2_block1_0_conv[0][0]        \n",
            "__________________________________________________________________________________________________\n",
            "conv2_block1_3_bn (BatchNormali (None, 64, 64, 256)  1024        conv2_block1_3_conv[0][0]        \n",
            "__________________________________________________________________________________________________\n",
            "conv2_block1_add (Add)          (None, 64, 64, 256)  0           conv2_block1_0_bn[0][0]          \n",
            "                                                                 conv2_block1_3_bn[0][0]          \n",
            "__________________________________________________________________________________________________\n",
            "conv2_block1_out (Activation)   (None, 64, 64, 256)  0           conv2_block1_add[0][0]           \n",
            "__________________________________________________________________________________________________\n",
            "conv2_block2_1_conv (Conv2D)    (None, 64, 64, 64)   16448       conv2_block1_out[0][0]           \n",
            "__________________________________________________________________________________________________\n",
            "conv2_block2_1_bn (BatchNormali (None, 64, 64, 64)   256         conv2_block2_1_conv[0][0]        \n",
            "__________________________________________________________________________________________________\n",
            "conv2_block2_1_relu (Activation (None, 64, 64, 64)   0           conv2_block2_1_bn[0][0]          \n",
            "__________________________________________________________________________________________________\n",
            "conv2_block2_2_conv (Conv2D)    (None, 64, 64, 64)   36928       conv2_block2_1_relu[0][0]        \n",
            "__________________________________________________________________________________________________\n",
            "conv2_block2_2_bn (BatchNormali (None, 64, 64, 64)   256         conv2_block2_2_conv[0][0]        \n",
            "__________________________________________________________________________________________________\n",
            "conv2_block2_2_relu (Activation (None, 64, 64, 64)   0           conv2_block2_2_bn[0][0]          \n",
            "__________________________________________________________________________________________________\n",
            "conv2_block2_3_conv (Conv2D)    (None, 64, 64, 256)  16640       conv2_block2_2_relu[0][0]        \n",
            "__________________________________________________________________________________________________\n",
            "conv2_block2_3_bn (BatchNormali (None, 64, 64, 256)  1024        conv2_block2_3_conv[0][0]        \n",
            "__________________________________________________________________________________________________\n",
            "conv2_block2_add (Add)          (None, 64, 64, 256)  0           conv2_block1_out[0][0]           \n",
            "                                                                 conv2_block2_3_bn[0][0]          \n",
            "__________________________________________________________________________________________________\n",
            "conv2_block2_out (Activation)   (None, 64, 64, 256)  0           conv2_block2_add[0][0]           \n",
            "__________________________________________________________________________________________________\n",
            "conv2_block3_1_conv (Conv2D)    (None, 64, 64, 64)   16448       conv2_block2_out[0][0]           \n",
            "__________________________________________________________________________________________________\n",
            "conv2_block3_1_bn (BatchNormali (None, 64, 64, 64)   256         conv2_block3_1_conv[0][0]        \n",
            "__________________________________________________________________________________________________\n",
            "conv2_block3_1_relu (Activation (None, 64, 64, 64)   0           conv2_block3_1_bn[0][0]          \n",
            "__________________________________________________________________________________________________\n",
            "conv2_block3_2_conv (Conv2D)    (None, 64, 64, 64)   36928       conv2_block3_1_relu[0][0]        \n",
            "__________________________________________________________________________________________________\n",
            "conv2_block3_2_bn (BatchNormali (None, 64, 64, 64)   256         conv2_block3_2_conv[0][0]        \n",
            "__________________________________________________________________________________________________\n",
            "conv2_block3_2_relu (Activation (None, 64, 64, 64)   0           conv2_block3_2_bn[0][0]          \n",
            "__________________________________________________________________________________________________\n",
            "conv2_block3_3_conv (Conv2D)    (None, 64, 64, 256)  16640       conv2_block3_2_relu[0][0]        \n",
            "__________________________________________________________________________________________________\n",
            "conv2_block3_3_bn (BatchNormali (None, 64, 64, 256)  1024        conv2_block3_3_conv[0][0]        \n",
            "__________________________________________________________________________________________________\n",
            "conv2_block3_add (Add)          (None, 64, 64, 256)  0           conv2_block2_out[0][0]           \n",
            "                                                                 conv2_block3_3_bn[0][0]          \n",
            "__________________________________________________________________________________________________\n",
            "conv2_block3_out (Activation)   (None, 64, 64, 256)  0           conv2_block3_add[0][0]           \n",
            "__________________________________________________________________________________________________\n",
            "conv3_block1_1_conv (Conv2D)    (None, 32, 32, 128)  32896       conv2_block3_out[0][0]           \n",
            "__________________________________________________________________________________________________\n",
            "conv3_block1_1_bn (BatchNormali (None, 32, 32, 128)  512         conv3_block1_1_conv[0][0]        \n",
            "__________________________________________________________________________________________________\n",
            "conv3_block1_1_relu (Activation (None, 32, 32, 128)  0           conv3_block1_1_bn[0][0]          \n",
            "__________________________________________________________________________________________________\n",
            "conv3_block1_2_conv (Conv2D)    (None, 32, 32, 128)  147584      conv3_block1_1_relu[0][0]        \n",
            "__________________________________________________________________________________________________\n",
            "conv3_block1_2_bn (BatchNormali (None, 32, 32, 128)  512         conv3_block1_2_conv[0][0]        \n",
            "__________________________________________________________________________________________________\n",
            "conv3_block1_2_relu (Activation (None, 32, 32, 128)  0           conv3_block1_2_bn[0][0]          \n",
            "__________________________________________________________________________________________________\n",
            "conv3_block1_0_conv (Conv2D)    (None, 32, 32, 512)  131584      conv2_block3_out[0][0]           \n",
            "__________________________________________________________________________________________________\n",
            "conv3_block1_3_conv (Conv2D)    (None, 32, 32, 512)  66048       conv3_block1_2_relu[0][0]        \n",
            "__________________________________________________________________________________________________\n",
            "conv3_block1_0_bn (BatchNormali (None, 32, 32, 512)  2048        conv3_block1_0_conv[0][0]        \n",
            "__________________________________________________________________________________________________\n",
            "conv3_block1_3_bn (BatchNormali (None, 32, 32, 512)  2048        conv3_block1_3_conv[0][0]        \n",
            "__________________________________________________________________________________________________\n",
            "conv3_block1_add (Add)          (None, 32, 32, 512)  0           conv3_block1_0_bn[0][0]          \n",
            "                                                                 conv3_block1_3_bn[0][0]          \n",
            "__________________________________________________________________________________________________\n",
            "conv3_block1_out (Activation)   (None, 32, 32, 512)  0           conv3_block1_add[0][0]           \n",
            "__________________________________________________________________________________________________\n",
            "conv3_block2_1_conv (Conv2D)    (None, 32, 32, 128)  65664       conv3_block1_out[0][0]           \n",
            "__________________________________________________________________________________________________\n",
            "conv3_block2_1_bn (BatchNormali (None, 32, 32, 128)  512         conv3_block2_1_conv[0][0]        \n",
            "__________________________________________________________________________________________________\n",
            "conv3_block2_1_relu (Activation (None, 32, 32, 128)  0           conv3_block2_1_bn[0][0]          \n",
            "__________________________________________________________________________________________________\n",
            "conv3_block2_2_conv (Conv2D)    (None, 32, 32, 128)  147584      conv3_block2_1_relu[0][0]        \n",
            "__________________________________________________________________________________________________\n",
            "conv3_block2_2_bn (BatchNormali (None, 32, 32, 128)  512         conv3_block2_2_conv[0][0]        \n",
            "__________________________________________________________________________________________________\n",
            "conv3_block2_2_relu (Activation (None, 32, 32, 128)  0           conv3_block2_2_bn[0][0]          \n",
            "__________________________________________________________________________________________________\n",
            "conv3_block2_3_conv (Conv2D)    (None, 32, 32, 512)  66048       conv3_block2_2_relu[0][0]        \n",
            "__________________________________________________________________________________________________\n",
            "conv3_block2_3_bn (BatchNormali (None, 32, 32, 512)  2048        conv3_block2_3_conv[0][0]        \n",
            "__________________________________________________________________________________________________\n",
            "conv3_block2_add (Add)          (None, 32, 32, 512)  0           conv3_block1_out[0][0]           \n",
            "                                                                 conv3_block2_3_bn[0][0]          \n",
            "__________________________________________________________________________________________________\n",
            "conv3_block2_out (Activation)   (None, 32, 32, 512)  0           conv3_block2_add[0][0]           \n",
            "__________________________________________________________________________________________________\n",
            "conv3_block3_1_conv (Conv2D)    (None, 32, 32, 128)  65664       conv3_block2_out[0][0]           \n",
            "__________________________________________________________________________________________________\n",
            "conv3_block3_1_bn (BatchNormali (None, 32, 32, 128)  512         conv3_block3_1_conv[0][0]        \n",
            "__________________________________________________________________________________________________\n",
            "conv3_block3_1_relu (Activation (None, 32, 32, 128)  0           conv3_block3_1_bn[0][0]          \n",
            "__________________________________________________________________________________________________\n",
            "conv3_block3_2_conv (Conv2D)    (None, 32, 32, 128)  147584      conv3_block3_1_relu[0][0]        \n",
            "__________________________________________________________________________________________________\n",
            "conv3_block3_2_bn (BatchNormali (None, 32, 32, 128)  512         conv3_block3_2_conv[0][0]        \n",
            "__________________________________________________________________________________________________\n",
            "conv3_block3_2_relu (Activation (None, 32, 32, 128)  0           conv3_block3_2_bn[0][0]          \n",
            "__________________________________________________________________________________________________\n",
            "conv3_block3_3_conv (Conv2D)    (None, 32, 32, 512)  66048       conv3_block3_2_relu[0][0]        \n",
            "__________________________________________________________________________________________________\n",
            "conv3_block3_3_bn (BatchNormali (None, 32, 32, 512)  2048        conv3_block3_3_conv[0][0]        \n",
            "__________________________________________________________________________________________________\n",
            "conv3_block3_add (Add)          (None, 32, 32, 512)  0           conv3_block2_out[0][0]           \n",
            "                                                                 conv3_block3_3_bn[0][0]          \n",
            "__________________________________________________________________________________________________\n",
            "conv3_block3_out (Activation)   (None, 32, 32, 512)  0           conv3_block3_add[0][0]           \n",
            "__________________________________________________________________________________________________\n",
            "conv3_block4_1_conv (Conv2D)    (None, 32, 32, 128)  65664       conv3_block3_out[0][0]           \n",
            "__________________________________________________________________________________________________\n",
            "conv3_block4_1_bn (BatchNormali (None, 32, 32, 128)  512         conv3_block4_1_conv[0][0]        \n",
            "__________________________________________________________________________________________________\n",
            "conv3_block4_1_relu (Activation (None, 32, 32, 128)  0           conv3_block4_1_bn[0][0]          \n",
            "__________________________________________________________________________________________________\n",
            "conv3_block4_2_conv (Conv2D)    (None, 32, 32, 128)  147584      conv3_block4_1_relu[0][0]        \n",
            "__________________________________________________________________________________________________\n",
            "conv3_block4_2_bn (BatchNormali (None, 32, 32, 128)  512         conv3_block4_2_conv[0][0]        \n",
            "__________________________________________________________________________________________________\n",
            "conv3_block4_2_relu (Activation (None, 32, 32, 128)  0           conv3_block4_2_bn[0][0]          \n",
            "__________________________________________________________________________________________________\n",
            "conv3_block4_3_conv (Conv2D)    (None, 32, 32, 512)  66048       conv3_block4_2_relu[0][0]        \n",
            "__________________________________________________________________________________________________\n",
            "conv3_block4_3_bn (BatchNormali (None, 32, 32, 512)  2048        conv3_block4_3_conv[0][0]        \n",
            "__________________________________________________________________________________________________\n",
            "conv3_block4_add (Add)          (None, 32, 32, 512)  0           conv3_block3_out[0][0]           \n",
            "                                                                 conv3_block4_3_bn[0][0]          \n",
            "__________________________________________________________________________________________________\n",
            "conv3_block4_out (Activation)   (None, 32, 32, 512)  0           conv3_block4_add[0][0]           \n",
            "__________________________________________________________________________________________________\n",
            "conv4_block1_1_conv (Conv2D)    (None, 16, 16, 256)  131328      conv3_block4_out[0][0]           \n",
            "__________________________________________________________________________________________________\n",
            "conv4_block1_1_bn (BatchNormali (None, 16, 16, 256)  1024        conv4_block1_1_conv[0][0]        \n",
            "__________________________________________________________________________________________________\n",
            "conv4_block1_1_relu (Activation (None, 16, 16, 256)  0           conv4_block1_1_bn[0][0]          \n",
            "__________________________________________________________________________________________________\n",
            "conv4_block1_2_conv (Conv2D)    (None, 16, 16, 256)  590080      conv4_block1_1_relu[0][0]        \n",
            "__________________________________________________________________________________________________\n",
            "conv4_block1_2_bn (BatchNormali (None, 16, 16, 256)  1024        conv4_block1_2_conv[0][0]        \n",
            "__________________________________________________________________________________________________\n",
            "conv4_block1_2_relu (Activation (None, 16, 16, 256)  0           conv4_block1_2_bn[0][0]          \n",
            "__________________________________________________________________________________________________\n",
            "conv4_block1_0_conv (Conv2D)    (None, 16, 16, 1024) 525312      conv3_block4_out[0][0]           \n",
            "__________________________________________________________________________________________________\n",
            "conv4_block1_3_conv (Conv2D)    (None, 16, 16, 1024) 263168      conv4_block1_2_relu[0][0]        \n",
            "__________________________________________________________________________________________________\n",
            "conv4_block1_0_bn (BatchNormali (None, 16, 16, 1024) 4096        conv4_block1_0_conv[0][0]        \n",
            "__________________________________________________________________________________________________\n",
            "conv4_block1_3_bn (BatchNormali (None, 16, 16, 1024) 4096        conv4_block1_3_conv[0][0]        \n",
            "__________________________________________________________________________________________________\n",
            "conv4_block1_add (Add)          (None, 16, 16, 1024) 0           conv4_block1_0_bn[0][0]          \n",
            "                                                                 conv4_block1_3_bn[0][0]          \n",
            "__________________________________________________________________________________________________\n",
            "conv4_block1_out (Activation)   (None, 16, 16, 1024) 0           conv4_block1_add[0][0]           \n",
            "__________________________________________________________________________________________________\n",
            "conv4_block2_1_conv (Conv2D)    (None, 16, 16, 256)  262400      conv4_block1_out[0][0]           \n",
            "__________________________________________________________________________________________________\n",
            "conv4_block2_1_bn (BatchNormali (None, 16, 16, 256)  1024        conv4_block2_1_conv[0][0]        \n",
            "__________________________________________________________________________________________________\n",
            "conv4_block2_1_relu (Activation (None, 16, 16, 256)  0           conv4_block2_1_bn[0][0]          \n",
            "__________________________________________________________________________________________________\n",
            "conv4_block2_2_conv (Conv2D)    (None, 16, 16, 256)  590080      conv4_block2_1_relu[0][0]        \n",
            "__________________________________________________________________________________________________\n",
            "conv4_block2_2_bn (BatchNormali (None, 16, 16, 256)  1024        conv4_block2_2_conv[0][0]        \n",
            "__________________________________________________________________________________________________\n",
            "conv4_block2_2_relu (Activation (None, 16, 16, 256)  0           conv4_block2_2_bn[0][0]          \n",
            "__________________________________________________________________________________________________\n",
            "conv4_block2_3_conv (Conv2D)    (None, 16, 16, 1024) 263168      conv4_block2_2_relu[0][0]        \n",
            "__________________________________________________________________________________________________\n",
            "conv4_block2_3_bn (BatchNormali (None, 16, 16, 1024) 4096        conv4_block2_3_conv[0][0]        \n",
            "__________________________________________________________________________________________________\n",
            "conv4_block2_add (Add)          (None, 16, 16, 1024) 0           conv4_block1_out[0][0]           \n",
            "                                                                 conv4_block2_3_bn[0][0]          \n",
            "__________________________________________________________________________________________________\n",
            "conv4_block2_out (Activation)   (None, 16, 16, 1024) 0           conv4_block2_add[0][0]           \n",
            "__________________________________________________________________________________________________\n",
            "conv4_block3_1_conv (Conv2D)    (None, 16, 16, 256)  262400      conv4_block2_out[0][0]           \n",
            "__________________________________________________________________________________________________\n",
            "conv4_block3_1_bn (BatchNormali (None, 16, 16, 256)  1024        conv4_block3_1_conv[0][0]        \n",
            "__________________________________________________________________________________________________\n",
            "conv4_block3_1_relu (Activation (None, 16, 16, 256)  0           conv4_block3_1_bn[0][0]          \n",
            "__________________________________________________________________________________________________\n",
            "conv4_block3_2_conv (Conv2D)    (None, 16, 16, 256)  590080      conv4_block3_1_relu[0][0]        \n",
            "__________________________________________________________________________________________________\n",
            "conv4_block3_2_bn (BatchNormali (None, 16, 16, 256)  1024        conv4_block3_2_conv[0][0]        \n",
            "__________________________________________________________________________________________________\n",
            "conv4_block3_2_relu (Activation (None, 16, 16, 256)  0           conv4_block3_2_bn[0][0]          \n",
            "__________________________________________________________________________________________________\n",
            "conv4_block3_3_conv (Conv2D)    (None, 16, 16, 1024) 263168      conv4_block3_2_relu[0][0]        \n",
            "__________________________________________________________________________________________________\n",
            "conv4_block3_3_bn (BatchNormali (None, 16, 16, 1024) 4096        conv4_block3_3_conv[0][0]        \n",
            "__________________________________________________________________________________________________\n",
            "conv4_block3_add (Add)          (None, 16, 16, 1024) 0           conv4_block2_out[0][0]           \n",
            "                                                                 conv4_block3_3_bn[0][0]          \n",
            "__________________________________________________________________________________________________\n",
            "conv4_block3_out (Activation)   (None, 16, 16, 1024) 0           conv4_block3_add[0][0]           \n",
            "__________________________________________________________________________________________________\n",
            "conv4_block4_1_conv (Conv2D)    (None, 16, 16, 256)  262400      conv4_block3_out[0][0]           \n",
            "__________________________________________________________________________________________________\n",
            "conv4_block4_1_bn (BatchNormali (None, 16, 16, 256)  1024        conv4_block4_1_conv[0][0]        \n",
            "__________________________________________________________________________________________________\n",
            "conv4_block4_1_relu (Activation (None, 16, 16, 256)  0           conv4_block4_1_bn[0][0]          \n",
            "__________________________________________________________________________________________________\n",
            "conv4_block4_2_conv (Conv2D)    (None, 16, 16, 256)  590080      conv4_block4_1_relu[0][0]        \n",
            "__________________________________________________________________________________________________\n",
            "conv4_block4_2_bn (BatchNormali (None, 16, 16, 256)  1024        conv4_block4_2_conv[0][0]        \n",
            "__________________________________________________________________________________________________\n",
            "conv4_block4_2_relu (Activation (None, 16, 16, 256)  0           conv4_block4_2_bn[0][0]          \n",
            "__________________________________________________________________________________________________\n",
            "conv4_block4_3_conv (Conv2D)    (None, 16, 16, 1024) 263168      conv4_block4_2_relu[0][0]        \n",
            "__________________________________________________________________________________________________\n",
            "conv4_block4_3_bn (BatchNormali (None, 16, 16, 1024) 4096        conv4_block4_3_conv[0][0]        \n",
            "__________________________________________________________________________________________________\n",
            "conv4_block4_add (Add)          (None, 16, 16, 1024) 0           conv4_block3_out[0][0]           \n",
            "                                                                 conv4_block4_3_bn[0][0]          \n",
            "__________________________________________________________________________________________________\n",
            "conv4_block4_out (Activation)   (None, 16, 16, 1024) 0           conv4_block4_add[0][0]           \n",
            "__________________________________________________________________________________________________\n",
            "conv4_block5_1_conv (Conv2D)    (None, 16, 16, 256)  262400      conv4_block4_out[0][0]           \n",
            "__________________________________________________________________________________________________\n",
            "conv4_block5_1_bn (BatchNormali (None, 16, 16, 256)  1024        conv4_block5_1_conv[0][0]        \n",
            "__________________________________________________________________________________________________\n",
            "conv4_block5_1_relu (Activation (None, 16, 16, 256)  0           conv4_block5_1_bn[0][0]          \n",
            "__________________________________________________________________________________________________\n",
            "conv4_block5_2_conv (Conv2D)    (None, 16, 16, 256)  590080      conv4_block5_1_relu[0][0]        \n",
            "__________________________________________________________________________________________________\n",
            "conv4_block5_2_bn (BatchNormali (None, 16, 16, 256)  1024        conv4_block5_2_conv[0][0]        \n",
            "__________________________________________________________________________________________________\n",
            "conv4_block5_2_relu (Activation (None, 16, 16, 256)  0           conv4_block5_2_bn[0][0]          \n",
            "__________________________________________________________________________________________________\n",
            "conv4_block5_3_conv (Conv2D)    (None, 16, 16, 1024) 263168      conv4_block5_2_relu[0][0]        \n",
            "__________________________________________________________________________________________________\n",
            "conv4_block5_3_bn (BatchNormali (None, 16, 16, 1024) 4096        conv4_block5_3_conv[0][0]        \n",
            "__________________________________________________________________________________________________\n",
            "conv4_block5_add (Add)          (None, 16, 16, 1024) 0           conv4_block4_out[0][0]           \n",
            "                                                                 conv4_block5_3_bn[0][0]          \n",
            "__________________________________________________________________________________________________\n",
            "conv4_block5_out (Activation)   (None, 16, 16, 1024) 0           conv4_block5_add[0][0]           \n",
            "__________________________________________________________________________________________________\n",
            "conv4_block6_1_conv (Conv2D)    (None, 16, 16, 256)  262400      conv4_block5_out[0][0]           \n",
            "__________________________________________________________________________________________________\n",
            "conv4_block6_1_bn (BatchNormali (None, 16, 16, 256)  1024        conv4_block6_1_conv[0][0]        \n",
            "__________________________________________________________________________________________________\n",
            "conv4_block6_1_relu (Activation (None, 16, 16, 256)  0           conv4_block6_1_bn[0][0]          \n",
            "__________________________________________________________________________________________________\n",
            "conv4_block6_2_conv (Conv2D)    (None, 16, 16, 256)  590080      conv4_block6_1_relu[0][0]        \n",
            "__________________________________________________________________________________________________\n",
            "conv4_block6_2_bn (BatchNormali (None, 16, 16, 256)  1024        conv4_block6_2_conv[0][0]        \n",
            "__________________________________________________________________________________________________\n",
            "conv4_block6_2_relu (Activation (None, 16, 16, 256)  0           conv4_block6_2_bn[0][0]          \n",
            "__________________________________________________________________________________________________\n",
            "conv4_block6_3_conv (Conv2D)    (None, 16, 16, 1024) 263168      conv4_block6_2_relu[0][0]        \n",
            "__________________________________________________________________________________________________\n",
            "conv4_block6_3_bn (BatchNormali (None, 16, 16, 1024) 4096        conv4_block6_3_conv[0][0]        \n",
            "__________________________________________________________________________________________________\n",
            "conv4_block6_add (Add)          (None, 16, 16, 1024) 0           conv4_block5_out[0][0]           \n",
            "                                                                 conv4_block6_3_bn[0][0]          \n",
            "__________________________________________________________________________________________________\n",
            "conv4_block6_out (Activation)   (None, 16, 16, 1024) 0           conv4_block6_add[0][0]           \n",
            "__________________________________________________________________________________________________\n",
            "conv5_block1_1_conv (Conv2D)    (None, 8, 8, 512)    524800      conv4_block6_out[0][0]           \n",
            "__________________________________________________________________________________________________\n",
            "conv5_block1_1_bn (BatchNormali (None, 8, 8, 512)    2048        conv5_block1_1_conv[0][0]        \n",
            "__________________________________________________________________________________________________\n",
            "conv5_block1_1_relu (Activation (None, 8, 8, 512)    0           conv5_block1_1_bn[0][0]          \n",
            "__________________________________________________________________________________________________\n",
            "conv5_block1_2_conv (Conv2D)    (None, 8, 8, 512)    2359808     conv5_block1_1_relu[0][0]        \n",
            "__________________________________________________________________________________________________\n",
            "conv5_block1_2_bn (BatchNormali (None, 8, 8, 512)    2048        conv5_block1_2_conv[0][0]        \n",
            "__________________________________________________________________________________________________\n",
            "conv5_block1_2_relu (Activation (None, 8, 8, 512)    0           conv5_block1_2_bn[0][0]          \n",
            "__________________________________________________________________________________________________\n",
            "conv5_block1_0_conv (Conv2D)    (None, 8, 8, 2048)   2099200     conv4_block6_out[0][0]           \n",
            "__________________________________________________________________________________________________\n",
            "conv5_block1_3_conv (Conv2D)    (None, 8, 8, 2048)   1050624     conv5_block1_2_relu[0][0]        \n",
            "__________________________________________________________________________________________________\n",
            "conv5_block1_0_bn (BatchNormali (None, 8, 8, 2048)   8192        conv5_block1_0_conv[0][0]        \n",
            "__________________________________________________________________________________________________\n",
            "conv5_block1_3_bn (BatchNormali (None, 8, 8, 2048)   8192        conv5_block1_3_conv[0][0]        \n",
            "__________________________________________________________________________________________________\n",
            "conv5_block1_add (Add)          (None, 8, 8, 2048)   0           conv5_block1_0_bn[0][0]          \n",
            "                                                                 conv5_block1_3_bn[0][0]          \n",
            "__________________________________________________________________________________________________\n",
            "conv5_block1_out (Activation)   (None, 8, 8, 2048)   0           conv5_block1_add[0][0]           \n",
            "__________________________________________________________________________________________________\n",
            "conv5_block2_1_conv (Conv2D)    (None, 8, 8, 512)    1049088     conv5_block1_out[0][0]           \n",
            "__________________________________________________________________________________________________\n",
            "conv5_block2_1_bn (BatchNormali (None, 8, 8, 512)    2048        conv5_block2_1_conv[0][0]        \n",
            "__________________________________________________________________________________________________\n",
            "conv5_block2_1_relu (Activation (None, 8, 8, 512)    0           conv5_block2_1_bn[0][0]          \n",
            "__________________________________________________________________________________________________\n",
            "conv5_block2_2_conv (Conv2D)    (None, 8, 8, 512)    2359808     conv5_block2_1_relu[0][0]        \n",
            "__________________________________________________________________________________________________\n",
            "conv5_block2_2_bn (BatchNormali (None, 8, 8, 512)    2048        conv5_block2_2_conv[0][0]        \n",
            "__________________________________________________________________________________________________\n",
            "conv5_block2_2_relu (Activation (None, 8, 8, 512)    0           conv5_block2_2_bn[0][0]          \n",
            "__________________________________________________________________________________________________\n",
            "conv5_block2_3_conv (Conv2D)    (None, 8, 8, 2048)   1050624     conv5_block2_2_relu[0][0]        \n",
            "__________________________________________________________________________________________________\n",
            "conv5_block2_3_bn (BatchNormali (None, 8, 8, 2048)   8192        conv5_block2_3_conv[0][0]        \n",
            "__________________________________________________________________________________________________\n",
            "conv5_block2_add (Add)          (None, 8, 8, 2048)   0           conv5_block1_out[0][0]           \n",
            "                                                                 conv5_block2_3_bn[0][0]          \n",
            "__________________________________________________________________________________________________\n",
            "conv5_block2_out (Activation)   (None, 8, 8, 2048)   0           conv5_block2_add[0][0]           \n",
            "__________________________________________________________________________________________________\n",
            "conv5_block3_1_conv (Conv2D)    (None, 8, 8, 512)    1049088     conv5_block2_out[0][0]           \n",
            "__________________________________________________________________________________________________\n",
            "conv5_block3_1_bn (BatchNormali (None, 8, 8, 512)    2048        conv5_block3_1_conv[0][0]        \n",
            "__________________________________________________________________________________________________\n",
            "conv5_block3_1_relu (Activation (None, 8, 8, 512)    0           conv5_block3_1_bn[0][0]          \n",
            "__________________________________________________________________________________________________\n",
            "conv5_block3_2_conv (Conv2D)    (None, 8, 8, 512)    2359808     conv5_block3_1_relu[0][0]        \n",
            "__________________________________________________________________________________________________\n",
            "conv5_block3_2_bn (BatchNormali (None, 8, 8, 512)    2048        conv5_block3_2_conv[0][0]        \n",
            "__________________________________________________________________________________________________\n",
            "conv5_block3_2_relu (Activation (None, 8, 8, 512)    0           conv5_block3_2_bn[0][0]          \n",
            "__________________________________________________________________________________________________\n",
            "conv5_block3_3_conv (Conv2D)    (None, 8, 8, 2048)   1050624     conv5_block3_2_relu[0][0]        \n",
            "__________________________________________________________________________________________________\n",
            "conv5_block3_3_bn (BatchNormali (None, 8, 8, 2048)   8192        conv5_block3_3_conv[0][0]        \n",
            "__________________________________________________________________________________________________\n",
            "conv5_block3_add (Add)          (None, 8, 8, 2048)   0           conv5_block2_out[0][0]           \n",
            "                                                                 conv5_block3_3_bn[0][0]          \n",
            "__________________________________________________________________________________________________\n",
            "conv5_block3_out (Activation)   (None, 8, 8, 2048)   0           conv5_block3_add[0][0]           \n",
            "__________________________________________________________________________________________________\n",
            "avg_pool (GlobalAveragePooling2 (None, 2048)         0           conv5_block3_out[0][0]           \n",
            "__________________________________________________________________________________________________\n",
            "dense_11 (Dense)                (None, 4)            8196        avg_pool[0][0]                   \n",
            "==================================================================================================\n",
            "Total params: 23,595,908\n",
            "Trainable params: 8,196\n",
            "Non-trainable params: 23,587,712\n",
            "__________________________________________________________________________________________________\n"
          ],
          "name": "stdout"
        }
      ]
    },
    {
      "cell_type": "code",
      "metadata": {
        "colab": {
          "base_uri": "https://localhost:8080/"
        },
        "id": "Cj45TB1_TtoN",
        "outputId": "368a3a2b-7e2e-454b-d697-8ea9ffd7cd62"
      },
      "source": [
        "history_resnet_pre = model_resnet_pre.fit(x_train, y_train, validation_split=0.15, epochs=25, batch_size=4, verbose=2)"
      ],
      "execution_count": null,
      "outputs": [
        {
          "output_type": "stream",
          "text": [
            "Epoch 1/25\n",
            "102/102 - 7s - loss: 2.0840 - categorical_accuracy: 0.1210 - val_loss: 1.9153 - val_categorical_accuracy: 0.1111\n",
            "Epoch 2/25\n",
            "102/102 - 2s - loss: 1.8710 - categorical_accuracy: 0.1210 - val_loss: 1.7306 - val_categorical_accuracy: 0.1111\n",
            "Epoch 3/25\n",
            "102/102 - 2s - loss: 1.6965 - categorical_accuracy: 0.1210 - val_loss: 1.5831 - val_categorical_accuracy: 0.1111\n",
            "Epoch 4/25\n",
            "102/102 - 2s - loss: 1.5524 - categorical_accuracy: 0.1210 - val_loss: 1.4678 - val_categorical_accuracy: 0.1111\n",
            "Epoch 5/25\n",
            "102/102 - 2s - loss: 1.4430 - categorical_accuracy: 0.1210 - val_loss: 1.3833 - val_categorical_accuracy: 0.1111\n",
            "Epoch 6/25\n",
            "102/102 - 2s - loss: 1.3638 - categorical_accuracy: 0.2568 - val_loss: 1.3255 - val_categorical_accuracy: 0.4583\n",
            "Epoch 7/25\n",
            "102/102 - 2s - loss: 1.3095 - categorical_accuracy: 0.4988 - val_loss: 1.2894 - val_categorical_accuracy: 0.4583\n",
            "Epoch 8/25\n",
            "102/102 - 2s - loss: 1.2736 - categorical_accuracy: 0.4988 - val_loss: 1.2662 - val_categorical_accuracy: 0.4583\n",
            "Epoch 9/25\n",
            "102/102 - 2s - loss: 1.2519 - categorical_accuracy: 0.4988 - val_loss: 1.2542 - val_categorical_accuracy: 0.4583\n",
            "Epoch 10/25\n",
            "102/102 - 2s - loss: 1.2390 - categorical_accuracy: 0.4988 - val_loss: 1.2466 - val_categorical_accuracy: 0.4583\n",
            "Epoch 11/25\n",
            "102/102 - 2s - loss: 1.2317 - categorical_accuracy: 0.4988 - val_loss: 1.2426 - val_categorical_accuracy: 0.4583\n",
            "Epoch 12/25\n",
            "102/102 - 2s - loss: 1.2274 - categorical_accuracy: 0.4988 - val_loss: 1.2401 - val_categorical_accuracy: 0.4583\n",
            "Epoch 13/25\n",
            "102/102 - 2s - loss: 1.2251 - categorical_accuracy: 0.4988 - val_loss: 1.2391 - val_categorical_accuracy: 0.4583\n",
            "Epoch 14/25\n",
            "102/102 - 2s - loss: 1.2235 - categorical_accuracy: 0.4988 - val_loss: 1.2382 - val_categorical_accuracy: 0.4583\n",
            "Epoch 15/25\n",
            "102/102 - 2s - loss: 1.2231 - categorical_accuracy: 0.4988 - val_loss: 1.2374 - val_categorical_accuracy: 0.4583\n",
            "Epoch 16/25\n",
            "102/102 - 2s - loss: 1.2226 - categorical_accuracy: 0.4988 - val_loss: 1.2365 - val_categorical_accuracy: 0.4583\n",
            "Epoch 17/25\n",
            "102/102 - 2s - loss: 1.2223 - categorical_accuracy: 0.4988 - val_loss: 1.2362 - val_categorical_accuracy: 0.4583\n",
            "Epoch 18/25\n",
            "102/102 - 2s - loss: 1.2218 - categorical_accuracy: 0.4988 - val_loss: 1.2364 - val_categorical_accuracy: 0.4583\n",
            "Epoch 19/25\n",
            "102/102 - 2s - loss: 1.2222 - categorical_accuracy: 0.4988 - val_loss: 1.2362 - val_categorical_accuracy: 0.4583\n",
            "Epoch 20/25\n",
            "102/102 - 2s - loss: 1.2215 - categorical_accuracy: 0.4988 - val_loss: 1.2356 - val_categorical_accuracy: 0.4583\n",
            "Epoch 21/25\n",
            "102/102 - 2s - loss: 1.2218 - categorical_accuracy: 0.4988 - val_loss: 1.2358 - val_categorical_accuracy: 0.4583\n",
            "Epoch 22/25\n",
            "102/102 - 2s - loss: 1.2215 - categorical_accuracy: 0.4988 - val_loss: 1.2359 - val_categorical_accuracy: 0.4583\n",
            "Epoch 23/25\n",
            "102/102 - 2s - loss: 1.2215 - categorical_accuracy: 0.4988 - val_loss: 1.2359 - val_categorical_accuracy: 0.4583\n",
            "Epoch 24/25\n",
            "102/102 - 2s - loss: 1.2218 - categorical_accuracy: 0.4988 - val_loss: 1.2359 - val_categorical_accuracy: 0.4583\n",
            "Epoch 25/25\n",
            "102/102 - 2s - loss: 1.2221 - categorical_accuracy: 0.4988 - val_loss: 1.2354 - val_categorical_accuracy: 0.4583\n"
          ],
          "name": "stdout"
        }
      ]
    },
    {
      "cell_type": "code",
      "metadata": {
        "colab": {
          "base_uri": "https://localhost:8080/"
        },
        "id": "WFJ5-AZMaFgm",
        "outputId": "3f9c38eb-9c0b-46d9-c7d9-61e1290dcade"
      },
      "source": [
        "model_resnet_pre.evaluate(x_test, y_test)"
      ],
      "execution_count": null,
      "outputs": [
        {
          "output_type": "stream",
          "text": [
            "4/4 [==============================] - 3s 329ms/step - loss: 1.2236 - categorical_accuracy: 0.4917\n"
          ],
          "name": "stdout"
        },
        {
          "output_type": "execute_result",
          "data": {
            "text/plain": [
              "[1.2236008644104004, 0.49166667461395264]"
            ]
          },
          "metadata": {
            "tags": []
          },
          "execution_count": 44
        }
      ]
    },
    {
      "cell_type": "code",
      "metadata": {
        "id": "JMbbe0EkaJgx"
      },
      "source": [
        "pred = model_resnet_pre.predict(x_test)\n",
        "y_true = inverse_categorical(y_test)\n",
        "pred = inverse_categorical(pred)"
      ],
      "execution_count": null,
      "outputs": []
    },
    {
      "cell_type": "code",
      "metadata": {
        "colab": {
          "base_uri": "https://localhost:8080/"
        },
        "id": "dFrCFoDQalih",
        "outputId": "cecfb228-520f-4c6a-fe44-1012a936bb6e"
      },
      "source": [
        "cm_res = confusion_matrix(y_true, pred)\n",
        "print(cm_res)"
      ],
      "execution_count": null,
      "outputs": [
        {
          "output_type": "stream",
          "text": [
            "[[ 0 17  0  0]\n",
            " [ 0 59  0  0]\n",
            " [ 0 14  0  0]\n",
            " [ 0 30  0  0]]\n"
          ],
          "name": "stdout"
        }
      ]
    },
    {
      "cell_type": "code",
      "metadata": {
        "colab": {
          "base_uri": "https://localhost:8080/",
          "height": 401
        },
        "id": "UTP6sknQawRx",
        "outputId": "61fc7cba-160f-48ed-cb37-85db40cd5080"
      },
      "source": [
        "#cm_res = confusion_matrix(y_true, pred)\n",
        "import itertools\n",
        "# note - this confusion matrix code was taken from https://deeplizard.com/learn/video/km7pxKy4UHU\n",
        "def plot_confusion_matrix(cm, classes, title='ResNet50 Confusion Matrix', cmap=plt.cm.Blues):\n",
        "    \"\"\"\n",
        "    This function prints and plots the confusion matrix.\n",
        "    Normalization can be applied by setting `normalize=True`.\n",
        "    \"\"\"\n",
        "    plt.imshow(cm, interpolation='nearest', cmap=cmap)\n",
        "    plt.title(title)\n",
        "    plt.colorbar()\n",
        "    tick_marks = np.arange(len(classes))\n",
        "    plt.xticks(tick_marks, classes, rotation=45)\n",
        "    plt.yticks(tick_marks, classes)\n",
        "\n",
        "    print(\"Confusion matrix of test data\")\n",
        "    print(cm)\n",
        "\n",
        "    thresh = cm.max() / 2.\n",
        "    for i, j in itertools.product(range(cm.shape[0]), range(cm.shape[1])):\n",
        "        plt.text(j, i, cm[i, j],\n",
        "            horizontalalignment=\"center\",\n",
        "            color=\"white\" if cm[i, j] > thresh else \"black\")\n",
        "\n",
        "    plt.tight_layout()\n",
        "    plt.ylabel('True label')\n",
        "    plt.xlabel('Predicted label')\n",
        "plot_confusion_matrix(cm_res,['Cofield','Depuy','Tornier','Zimmer'])"
      ],
      "execution_count": null,
      "outputs": [
        {
          "output_type": "stream",
          "text": [
            "Confusion matrix of test data\n",
            "[[ 0 17  0  0]\n",
            " [ 0 59  0  0]\n",
            " [ 0 14  0  0]\n",
            " [ 0 30  0  0]]\n"
          ],
          "name": "stdout"
        },
        {
          "output_type": "display_data",
          "data": {
            "image/png": "[encoded data removed]",
            "text/plain": [
              "<Figure size 432x288 with 2 Axes>"
            ]
          },
          "metadata": {
            "tags": [],
            "needs_background": "light"
          }
        }
      ]
    },
    {
      "cell_type": "code",
      "metadata": {
        "colab": {
          "base_uri": "https://localhost:8080/"
        },
        "id": "hkWUIQcmbANJ",
        "outputId": "e56cf5b7-1d4b-4687-c41e-ef7b284859a8"
      },
      "source": [
        "output = base_model_resnet.output\n",
        "for layer in base_model_resnet.layers:\n",
        "  layer.trainable = False\n",
        "y = Dense(4, activation='softmax')(output)\n",
        "model_resnet_pre2 = Model(base_model_resnet.input,y)\n",
        "\n",
        "model_resnet_pre2.compile(optimizer = keras.optimizers.SGD(lr=0.001, momentum=0.9), loss = 'categorical_crossentropy', metrics=[keras.metrics.CategoricalAccuracy()])\n",
        "\n",
        "model_resnet_pre2.summary()"
      ],
      "execution_count": null,
      "outputs": [
        {
          "output_type": "stream",
          "text": [
            "Model: \"model_7\"\n",
            "__________________________________________________________________________________________________\n",
            "Layer (type)                    Output Shape         Param #     Connected to                     \n",
            "==================================================================================================\n",
            "input_7 (InputLayer)            [(None, 256, 256, 3) 0                                            \n",
            "__________________________________________________________________________________________________\n",
            "conv1_pad (ZeroPadding2D)       (None, 262, 262, 3)  0           input_7[0][0]                    \n",
            "__________________________________________________________________________________________________\n",
            "conv1_conv (Conv2D)             (None, 128, 128, 64) 9472        conv1_pad[0][0]                  \n",
            "__________________________________________________________________________________________________\n",
            "conv1_bn (BatchNormalization)   (None, 128, 128, 64) 256         conv1_conv[0][0]                 \n",
            "__________________________________________________________________________________________________\n",
            "conv1_relu (Activation)         (None, 128, 128, 64) 0           conv1_bn[0][0]                   \n",
            "__________________________________________________________________________________________________\n",
            "pool1_pad (ZeroPadding2D)       (None, 130, 130, 64) 0           conv1_relu[0][0]                 \n",
            "__________________________________________________________________________________________________\n",
            "pool1_pool (MaxPooling2D)       (None, 64, 64, 64)   0           pool1_pad[0][0]                  \n",
            "__________________________________________________________________________________________________\n",
            "conv2_block1_1_conv (Conv2D)    (None, 64, 64, 64)   4160        pool1_pool[0][0]                 \n",
            "__________________________________________________________________________________________________\n",
            "conv2_block1_1_bn (BatchNormali (None, 64, 64, 64)   256         conv2_block1_1_conv[0][0]        \n",
            "__________________________________________________________________________________________________\n",
            "conv2_block1_1_relu (Activation (None, 64, 64, 64)   0           conv2_block1_1_bn[0][0]          \n",
            "__________________________________________________________________________________________________\n",
            "conv2_block1_2_conv (Conv2D)    (None, 64, 64, 64)   36928       conv2_block1_1_relu[0][0]        \n",
            "__________________________________________________________________________________________________\n",
            "conv2_block1_2_bn (BatchNormali (None, 64, 64, 64)   256         conv2_block1_2_conv[0][0]        \n",
            "__________________________________________________________________________________________________\n",
            "conv2_block1_2_relu (Activation (None, 64, 64, 64)   0           conv2_block1_2_bn[0][0]          \n",
            "__________________________________________________________________________________________________\n",
            "conv2_block1_0_conv (Conv2D)    (None, 64, 64, 256)  16640       pool1_pool[0][0]                 \n",
            "__________________________________________________________________________________________________\n",
            "conv2_block1_3_conv (Conv2D)    (None, 64, 64, 256)  16640       conv2_block1_2_relu[0][0]        \n",
            "__________________________________________________________________________________________________\n",
            "conv2_block1_0_bn (BatchNormali (None, 64, 64, 256)  1024        conv2_block1_0_conv[0][0]        \n",
            "__________________________________________________________________________________________________\n",
            "conv2_block1_3_bn (BatchNormali (None, 64, 64, 256)  1024        conv2_block1_3_conv[0][0]        \n",
            "__________________________________________________________________________________________________\n",
            "conv2_block1_add (Add)          (None, 64, 64, 256)  0           conv2_block1_0_bn[0][0]          \n",
            "                                                                 conv2_block1_3_bn[0][0]          \n",
            "__________________________________________________________________________________________________\n",
            "conv2_block1_out (Activation)   (None, 64, 64, 256)  0           conv2_block1_add[0][0]           \n",
            "__________________________________________________________________________________________________\n",
            "conv2_block2_1_conv (Conv2D)    (None, 64, 64, 64)   16448       conv2_block1_out[0][0]           \n",
            "__________________________________________________________________________________________________\n",
            "conv2_block2_1_bn (BatchNormali (None, 64, 64, 64)   256         conv2_block2_1_conv[0][0]        \n",
            "__________________________________________________________________________________________________\n",
            "conv2_block2_1_relu (Activation (None, 64, 64, 64)   0           conv2_block2_1_bn[0][0]          \n",
            "__________________________________________________________________________________________________\n",
            "conv2_block2_2_conv (Conv2D)    (None, 64, 64, 64)   36928       conv2_block2_1_relu[0][0]        \n",
            "__________________________________________________________________________________________________\n",
            "conv2_block2_2_bn (BatchNormali (None, 64, 64, 64)   256         conv2_block2_2_conv[0][0]        \n",
            "__________________________________________________________________________________________________\n",
            "conv2_block2_2_relu (Activation (None, 64, 64, 64)   0           conv2_block2_2_bn[0][0]          \n",
            "__________________________________________________________________________________________________\n",
            "conv2_block2_3_conv (Conv2D)    (None, 64, 64, 256)  16640       conv2_block2_2_relu[0][0]        \n",
            "__________________________________________________________________________________________________\n",
            "conv2_block2_3_bn (BatchNormali (None, 64, 64, 256)  1024        conv2_block2_3_conv[0][0]        \n",
            "__________________________________________________________________________________________________\n",
            "conv2_block2_add (Add)          (None, 64, 64, 256)  0           conv2_block1_out[0][0]           \n",
            "                                                                 conv2_block2_3_bn[0][0]          \n",
            "__________________________________________________________________________________________________\n",
            "conv2_block2_out (Activation)   (None, 64, 64, 256)  0           conv2_block2_add[0][0]           \n",
            "__________________________________________________________________________________________________\n",
            "conv2_block3_1_conv (Conv2D)    (None, 64, 64, 64)   16448       conv2_block2_out[0][0]           \n",
            "__________________________________________________________________________________________________\n",
            "conv2_block3_1_bn (BatchNormali (None, 64, 64, 64)   256         conv2_block3_1_conv[0][0]        \n",
            "__________________________________________________________________________________________________\n",
            "conv2_block3_1_relu (Activation (None, 64, 64, 64)   0           conv2_block3_1_bn[0][0]          \n",
            "__________________________________________________________________________________________________\n",
            "conv2_block3_2_conv (Conv2D)    (None, 64, 64, 64)   36928       conv2_block3_1_relu[0][0]        \n",
            "__________________________________________________________________________________________________\n",
            "conv2_block3_2_bn (BatchNormali (None, 64, 64, 64)   256         conv2_block3_2_conv[0][0]        \n",
            "__________________________________________________________________________________________________\n",
            "conv2_block3_2_relu (Activation (None, 64, 64, 64)   0           conv2_block3_2_bn[0][0]          \n",
            "__________________________________________________________________________________________________\n",
            "conv2_block3_3_conv (Conv2D)    (None, 64, 64, 256)  16640       conv2_block3_2_relu[0][0]        \n",
            "__________________________________________________________________________________________________\n",
            "conv2_block3_3_bn (BatchNormali (None, 64, 64, 256)  1024        conv2_block3_3_conv[0][0]        \n",
            "__________________________________________________________________________________________________\n",
            "conv2_block3_add (Add)          (None, 64, 64, 256)  0           conv2_block2_out[0][0]           \n",
            "                                                                 conv2_block3_3_bn[0][0]          \n",
            "__________________________________________________________________________________________________\n",
            "conv2_block3_out (Activation)   (None, 64, 64, 256)  0           conv2_block3_add[0][0]           \n",
            "__________________________________________________________________________________________________\n",
            "conv3_block1_1_conv (Conv2D)    (None, 32, 32, 128)  32896       conv2_block3_out[0][0]           \n",
            "__________________________________________________________________________________________________\n",
            "conv3_block1_1_bn (BatchNormali (None, 32, 32, 128)  512         conv3_block1_1_conv[0][0]        \n",
            "__________________________________________________________________________________________________\n",
            "conv3_block1_1_relu (Activation (None, 32, 32, 128)  0           conv3_block1_1_bn[0][0]          \n",
            "__________________________________________________________________________________________________\n",
            "conv3_block1_2_conv (Conv2D)    (None, 32, 32, 128)  147584      conv3_block1_1_relu[0][0]        \n",
            "__________________________________________________________________________________________________\n",
            "conv3_block1_2_bn (BatchNormali (None, 32, 32, 128)  512         conv3_block1_2_conv[0][0]        \n",
            "__________________________________________________________________________________________________\n",
            "conv3_block1_2_relu (Activation (None, 32, 32, 128)  0           conv3_block1_2_bn[0][0]          \n",
            "__________________________________________________________________________________________________\n",
            "conv3_block1_0_conv (Conv2D)    (None, 32, 32, 512)  131584      conv2_block3_out[0][0]           \n",
            "__________________________________________________________________________________________________\n",
            "conv3_block1_3_conv (Conv2D)    (None, 32, 32, 512)  66048       conv3_block1_2_relu[0][0]        \n",
            "__________________________________________________________________________________________________\n",
            "conv3_block1_0_bn (BatchNormali (None, 32, 32, 512)  2048        conv3_block1_0_conv[0][0]        \n",
            "__________________________________________________________________________________________________\n",
            "conv3_block1_3_bn (BatchNormali (None, 32, 32, 512)  2048        conv3_block1_3_conv[0][0]        \n",
            "__________________________________________________________________________________________________\n",
            "conv3_block1_add (Add)          (None, 32, 32, 512)  0           conv3_block1_0_bn[0][0]          \n",
            "                                                                 conv3_block1_3_bn[0][0]          \n",
            "__________________________________________________________________________________________________\n",
            "conv3_block1_out (Activation)   (None, 32, 32, 512)  0           conv3_block1_add[0][0]           \n",
            "__________________________________________________________________________________________________\n",
            "conv3_block2_1_conv (Conv2D)    (None, 32, 32, 128)  65664       conv3_block1_out[0][0]           \n",
            "__________________________________________________________________________________________________\n",
            "conv3_block2_1_bn (BatchNormali (None, 32, 32, 128)  512         conv3_block2_1_conv[0][0]        \n",
            "__________________________________________________________________________________________________\n",
            "conv3_block2_1_relu (Activation (None, 32, 32, 128)  0           conv3_block2_1_bn[0][0]          \n",
            "__________________________________________________________________________________________________\n",
            "conv3_block2_2_conv (Conv2D)    (None, 32, 32, 128)  147584      conv3_block2_1_relu[0][0]        \n",
            "__________________________________________________________________________________________________\n",
            "conv3_block2_2_bn (BatchNormali (None, 32, 32, 128)  512         conv3_block2_2_conv[0][0]        \n",
            "__________________________________________________________________________________________________\n",
            "conv3_block2_2_relu (Activation (None, 32, 32, 128)  0           conv3_block2_2_bn[0][0]          \n",
            "__________________________________________________________________________________________________\n",
            "conv3_block2_3_conv (Conv2D)    (None, 32, 32, 512)  66048       conv3_block2_2_relu[0][0]        \n",
            "__________________________________________________________________________________________________\n",
            "conv3_block2_3_bn (BatchNormali (None, 32, 32, 512)  2048        conv3_block2_3_conv[0][0]        \n",
            "__________________________________________________________________________________________________\n",
            "conv3_block2_add (Add)          (None, 32, 32, 512)  0           conv3_block1_out[0][0]           \n",
            "                                                                 conv3_block2_3_bn[0][0]          \n",
            "__________________________________________________________________________________________________\n",
            "conv3_block2_out (Activation)   (None, 32, 32, 512)  0           conv3_block2_add[0][0]           \n",
            "__________________________________________________________________________________________________\n",
            "conv3_block3_1_conv (Conv2D)    (None, 32, 32, 128)  65664       conv3_block2_out[0][0]           \n",
            "__________________________________________________________________________________________________\n",
            "conv3_block3_1_bn (BatchNormali (None, 32, 32, 128)  512         conv3_block3_1_conv[0][0]        \n",
            "__________________________________________________________________________________________________\n",
            "conv3_block3_1_relu (Activation (None, 32, 32, 128)  0           conv3_block3_1_bn[0][0]          \n",
            "__________________________________________________________________________________________________\n",
            "conv3_block3_2_conv (Conv2D)    (None, 32, 32, 128)  147584      conv3_block3_1_relu[0][0]        \n",
            "__________________________________________________________________________________________________\n",
            "conv3_block3_2_bn (BatchNormali (None, 32, 32, 128)  512         conv3_block3_2_conv[0][0]        \n",
            "__________________________________________________________________________________________________\n",
            "conv3_block3_2_relu (Activation (None, 32, 32, 128)  0           conv3_block3_2_bn[0][0]          \n",
            "__________________________________________________________________________________________________\n",
            "conv3_block3_3_conv (Conv2D)    (None, 32, 32, 512)  66048       conv3_block3_2_relu[0][0]        \n",
            "__________________________________________________________________________________________________\n",
            "conv3_block3_3_bn (BatchNormali (None, 32, 32, 512)  2048        conv3_block3_3_conv[0][0]        \n",
            "__________________________________________________________________________________________________\n",
            "conv3_block3_add (Add)          (None, 32, 32, 512)  0           conv3_block2_out[0][0]           \n",
            "                                                                 conv3_block3_3_bn[0][0]          \n",
            "__________________________________________________________________________________________________\n",
            "conv3_block3_out (Activation)   (None, 32, 32, 512)  0           conv3_block3_add[0][0]           \n",
            "__________________________________________________________________________________________________\n",
            "conv3_block4_1_conv (Conv2D)    (None, 32, 32, 128)  65664       conv3_block3_out[0][0]           \n",
            "__________________________________________________________________________________________________\n",
            "conv3_block4_1_bn (BatchNormali (None, 32, 32, 128)  512         conv3_block4_1_conv[0][0]        \n",
            "__________________________________________________________________________________________________\n",
            "conv3_block4_1_relu (Activation (None, 32, 32, 128)  0           conv3_block4_1_bn[0][0]          \n",
            "__________________________________________________________________________________________________\n",
            "conv3_block4_2_conv (Conv2D)    (None, 32, 32, 128)  147584      conv3_block4_1_relu[0][0]        \n",
            "__________________________________________________________________________________________________\n",
            "conv3_block4_2_bn (BatchNormali (None, 32, 32, 128)  512         conv3_block4_2_conv[0][0]        \n",
            "__________________________________________________________________________________________________\n",
            "conv3_block4_2_relu (Activation (None, 32, 32, 128)  0           conv3_block4_2_bn[0][0]          \n",
            "__________________________________________________________________________________________________\n",
            "conv3_block4_3_conv (Conv2D)    (None, 32, 32, 512)  66048       conv3_block4_2_relu[0][0]        \n",
            "__________________________________________________________________________________________________\n",
            "conv3_block4_3_bn (BatchNormali (None, 32, 32, 512)  2048        conv3_block4_3_conv[0][0]        \n",
            "__________________________________________________________________________________________________\n",
            "conv3_block4_add (Add)          (None, 32, 32, 512)  0           conv3_block3_out[0][0]           \n",
            "                                                                 conv3_block4_3_bn[0][0]          \n",
            "__________________________________________________________________________________________________\n",
            "conv3_block4_out (Activation)   (None, 32, 32, 512)  0           conv3_block4_add[0][0]           \n",
            "__________________________________________________________________________________________________\n",
            "conv4_block1_1_conv (Conv2D)    (None, 16, 16, 256)  131328      conv3_block4_out[0][0]           \n",
            "__________________________________________________________________________________________________\n",
            "conv4_block1_1_bn (BatchNormali (None, 16, 16, 256)  1024        conv4_block1_1_conv[0][0]        \n",
            "__________________________________________________________________________________________________\n",
            "conv4_block1_1_relu (Activation (None, 16, 16, 256)  0           conv4_block1_1_bn[0][0]          \n",
            "__________________________________________________________________________________________________\n",
            "conv4_block1_2_conv (Conv2D)    (None, 16, 16, 256)  590080      conv4_block1_1_relu[0][0]        \n",
            "__________________________________________________________________________________________________\n",
            "conv4_block1_2_bn (BatchNormali (None, 16, 16, 256)  1024        conv4_block1_2_conv[0][0]        \n",
            "__________________________________________________________________________________________________\n",
            "conv4_block1_2_relu (Activation (None, 16, 16, 256)  0           conv4_block1_2_bn[0][0]          \n",
            "__________________________________________________________________________________________________\n",
            "conv4_block1_0_conv (Conv2D)    (None, 16, 16, 1024) 525312      conv3_block4_out[0][0]           \n",
            "__________________________________________________________________________________________________\n",
            "conv4_block1_3_conv (Conv2D)    (None, 16, 16, 1024) 263168      conv4_block1_2_relu[0][0]        \n",
            "__________________________________________________________________________________________________\n",
            "conv4_block1_0_bn (BatchNormali (None, 16, 16, 1024) 4096        conv4_block1_0_conv[0][0]        \n",
            "__________________________________________________________________________________________________\n",
            "conv4_block1_3_bn (BatchNormali (None, 16, 16, 1024) 4096        conv4_block1_3_conv[0][0]        \n",
            "__________________________________________________________________________________________________\n",
            "conv4_block1_add (Add)          (None, 16, 16, 1024) 0           conv4_block1_0_bn[0][0]          \n",
            "                                                                 conv4_block1_3_bn[0][0]          \n",
            "__________________________________________________________________________________________________\n",
            "conv4_block1_out (Activation)   (None, 16, 16, 1024) 0           conv4_block1_add[0][0]           \n",
            "__________________________________________________________________________________________________\n",
            "conv4_block2_1_conv (Conv2D)    (None, 16, 16, 256)  262400      conv4_block1_out[0][0]           \n",
            "__________________________________________________________________________________________________\n",
            "conv4_block2_1_bn (BatchNormali (None, 16, 16, 256)  1024        conv4_block2_1_conv[0][0]        \n",
            "__________________________________________________________________________________________________\n",
            "conv4_block2_1_relu (Activation (None, 16, 16, 256)  0           conv4_block2_1_bn[0][0]          \n",
            "__________________________________________________________________________________________________\n",
            "conv4_block2_2_conv (Conv2D)    (None, 16, 16, 256)  590080      conv4_block2_1_relu[0][0]        \n",
            "__________________________________________________________________________________________________\n",
            "conv4_block2_2_bn (BatchNormali (None, 16, 16, 256)  1024        conv4_block2_2_conv[0][0]        \n",
            "__________________________________________________________________________________________________\n",
            "conv4_block2_2_relu (Activation (None, 16, 16, 256)  0           conv4_block2_2_bn[0][0]          \n",
            "__________________________________________________________________________________________________\n",
            "conv4_block2_3_conv (Conv2D)    (None, 16, 16, 1024) 263168      conv4_block2_2_relu[0][0]        \n",
            "__________________________________________________________________________________________________\n",
            "conv4_block2_3_bn (BatchNormali (None, 16, 16, 1024) 4096        conv4_block2_3_conv[0][0]        \n",
            "__________________________________________________________________________________________________\n",
            "conv4_block2_add (Add)          (None, 16, 16, 1024) 0           conv4_block1_out[0][0]           \n",
            "                                                                 conv4_block2_3_bn[0][0]          \n",
            "__________________________________________________________________________________________________\n",
            "conv4_block2_out (Activation)   (None, 16, 16, 1024) 0           conv4_block2_add[0][0]           \n",
            "__________________________________________________________________________________________________\n",
            "conv4_block3_1_conv (Conv2D)    (None, 16, 16, 256)  262400      conv4_block2_out[0][0]           \n",
            "__________________________________________________________________________________________________\n",
            "conv4_block3_1_bn (BatchNormali (None, 16, 16, 256)  1024        conv4_block3_1_conv[0][0]        \n",
            "__________________________________________________________________________________________________\n",
            "conv4_block3_1_relu (Activation (None, 16, 16, 256)  0           conv4_block3_1_bn[0][0]          \n",
            "__________________________________________________________________________________________________\n",
            "conv4_block3_2_conv (Conv2D)    (None, 16, 16, 256)  590080      conv4_block3_1_relu[0][0]        \n",
            "__________________________________________________________________________________________________\n",
            "conv4_block3_2_bn (BatchNormali (None, 16, 16, 256)  1024        conv4_block3_2_conv[0][0]        \n",
            "__________________________________________________________________________________________________\n",
            "conv4_block3_2_relu (Activation (None, 16, 16, 256)  0           conv4_block3_2_bn[0][0]          \n",
            "__________________________________________________________________________________________________\n",
            "conv4_block3_3_conv (Conv2D)    (None, 16, 16, 1024) 263168      conv4_block3_2_relu[0][0]        \n",
            "__________________________________________________________________________________________________\n",
            "conv4_block3_3_bn (BatchNormali (None, 16, 16, 1024) 4096        conv4_block3_3_conv[0][0]        \n",
            "__________________________________________________________________________________________________\n",
            "conv4_block3_add (Add)          (None, 16, 16, 1024) 0           conv4_block2_out[0][0]           \n",
            "                                                                 conv4_block3_3_bn[0][0]          \n",
            "__________________________________________________________________________________________________\n",
            "conv4_block3_out (Activation)   (None, 16, 16, 1024) 0           conv4_block3_add[0][0]           \n",
            "__________________________________________________________________________________________________\n",
            "conv4_block4_1_conv (Conv2D)    (None, 16, 16, 256)  262400      conv4_block3_out[0][0]           \n",
            "__________________________________________________________________________________________________\n",
            "conv4_block4_1_bn (BatchNormali (None, 16, 16, 256)  1024        conv4_block4_1_conv[0][0]        \n",
            "__________________________________________________________________________________________________\n",
            "conv4_block4_1_relu (Activation (None, 16, 16, 256)  0           conv4_block4_1_bn[0][0]          \n",
            "__________________________________________________________________________________________________\n",
            "conv4_block4_2_conv (Conv2D)    (None, 16, 16, 256)  590080      conv4_block4_1_relu[0][0]        \n",
            "__________________________________________________________________________________________________\n",
            "conv4_block4_2_bn (BatchNormali (None, 16, 16, 256)  1024        conv4_block4_2_conv[0][0]        \n",
            "__________________________________________________________________________________________________\n",
            "conv4_block4_2_relu (Activation (None, 16, 16, 256)  0           conv4_block4_2_bn[0][0]          \n",
            "__________________________________________________________________________________________________\n",
            "conv4_block4_3_conv (Conv2D)    (None, 16, 16, 1024) 263168      conv4_block4_2_relu[0][0]        \n",
            "__________________________________________________________________________________________________\n",
            "conv4_block4_3_bn (BatchNormali (None, 16, 16, 1024) 4096        conv4_block4_3_conv[0][0]        \n",
            "__________________________________________________________________________________________________\n",
            "conv4_block4_add (Add)          (None, 16, 16, 1024) 0           conv4_block3_out[0][0]           \n",
            "                                                                 conv4_block4_3_bn[0][0]          \n",
            "__________________________________________________________________________________________________\n",
            "conv4_block4_out (Activation)   (None, 16, 16, 1024) 0           conv4_block4_add[0][0]           \n",
            "__________________________________________________________________________________________________\n",
            "conv4_block5_1_conv (Conv2D)    (None, 16, 16, 256)  262400      conv4_block4_out[0][0]           \n",
            "__________________________________________________________________________________________________\n",
            "conv4_block5_1_bn (BatchNormali (None, 16, 16, 256)  1024        conv4_block5_1_conv[0][0]        \n",
            "__________________________________________________________________________________________________\n",
            "conv4_block5_1_relu (Activation (None, 16, 16, 256)  0           conv4_block5_1_bn[0][0]          \n",
            "__________________________________________________________________________________________________\n",
            "conv4_block5_2_conv (Conv2D)    (None, 16, 16, 256)  590080      conv4_block5_1_relu[0][0]        \n",
            "__________________________________________________________________________________________________\n",
            "conv4_block5_2_bn (BatchNormali (None, 16, 16, 256)  1024        conv4_block5_2_conv[0][0]        \n",
            "__________________________________________________________________________________________________\n",
            "conv4_block5_2_relu (Activation (None, 16, 16, 256)  0           conv4_block5_2_bn[0][0]          \n",
            "__________________________________________________________________________________________________\n",
            "conv4_block5_3_conv (Conv2D)    (None, 16, 16, 1024) 263168      conv4_block5_2_relu[0][0]        \n",
            "__________________________________________________________________________________________________\n",
            "conv4_block5_3_bn (BatchNormali (None, 16, 16, 1024) 4096        conv4_block5_3_conv[0][0]        \n",
            "__________________________________________________________________________________________________\n",
            "conv4_block5_add (Add)          (None, 16, 16, 1024) 0           conv4_block4_out[0][0]           \n",
            "                                                                 conv4_block5_3_bn[0][0]          \n",
            "__________________________________________________________________________________________________\n",
            "conv4_block5_out (Activation)   (None, 16, 16, 1024) 0           conv4_block5_add[0][0]           \n",
            "__________________________________________________________________________________________________\n",
            "conv4_block6_1_conv (Conv2D)    (None, 16, 16, 256)  262400      conv4_block5_out[0][0]           \n",
            "__________________________________________________________________________________________________\n",
            "conv4_block6_1_bn (BatchNormali (None, 16, 16, 256)  1024        conv4_block6_1_conv[0][0]        \n",
            "__________________________________________________________________________________________________\n",
            "conv4_block6_1_relu (Activation (None, 16, 16, 256)  0           conv4_block6_1_bn[0][0]          \n",
            "__________________________________________________________________________________________________\n",
            "conv4_block6_2_conv (Conv2D)    (None, 16, 16, 256)  590080      conv4_block6_1_relu[0][0]        \n",
            "__________________________________________________________________________________________________\n",
            "conv4_block6_2_bn (BatchNormali (None, 16, 16, 256)  1024        conv4_block6_2_conv[0][0]        \n",
            "__________________________________________________________________________________________________\n",
            "conv4_block6_2_relu (Activation (None, 16, 16, 256)  0           conv4_block6_2_bn[0][0]          \n",
            "__________________________________________________________________________________________________\n",
            "conv4_block6_3_conv (Conv2D)    (None, 16, 16, 1024) 263168      conv4_block6_2_relu[0][0]        \n",
            "__________________________________________________________________________________________________\n",
            "conv4_block6_3_bn (BatchNormali (None, 16, 16, 1024) 4096        conv4_block6_3_conv[0][0]        \n",
            "__________________________________________________________________________________________________\n",
            "conv4_block6_add (Add)          (None, 16, 16, 1024) 0           conv4_block5_out[0][0]           \n",
            "                                                                 conv4_block6_3_bn[0][0]          \n",
            "__________________________________________________________________________________________________\n",
            "conv4_block6_out (Activation)   (None, 16, 16, 1024) 0           conv4_block6_add[0][0]           \n",
            "__________________________________________________________________________________________________\n",
            "conv5_block1_1_conv (Conv2D)    (None, 8, 8, 512)    524800      conv4_block6_out[0][0]           \n",
            "__________________________________________________________________________________________________\n",
            "conv5_block1_1_bn (BatchNormali (None, 8, 8, 512)    2048        conv5_block1_1_conv[0][0]        \n",
            "__________________________________________________________________________________________________\n",
            "conv5_block1_1_relu (Activation (None, 8, 8, 512)    0           conv5_block1_1_bn[0][0]          \n",
            "__________________________________________________________________________________________________\n",
            "conv5_block1_2_conv (Conv2D)    (None, 8, 8, 512)    2359808     conv5_block1_1_relu[0][0]        \n",
            "__________________________________________________________________________________________________\n",
            "conv5_block1_2_bn (BatchNormali (None, 8, 8, 512)    2048        conv5_block1_2_conv[0][0]        \n",
            "__________________________________________________________________________________________________\n",
            "conv5_block1_2_relu (Activation (None, 8, 8, 512)    0           conv5_block1_2_bn[0][0]          \n",
            "__________________________________________________________________________________________________\n",
            "conv5_block1_0_conv (Conv2D)    (None, 8, 8, 2048)   2099200     conv4_block6_out[0][0]           \n",
            "__________________________________________________________________________________________________\n",
            "conv5_block1_3_conv (Conv2D)    (None, 8, 8, 2048)   1050624     conv5_block1_2_relu[0][0]        \n",
            "__________________________________________________________________________________________________\n",
            "conv5_block1_0_bn (BatchNormali (None, 8, 8, 2048)   8192        conv5_block1_0_conv[0][0]        \n",
            "__________________________________________________________________________________________________\n",
            "conv5_block1_3_bn (BatchNormali (None, 8, 8, 2048)   8192        conv5_block1_3_conv[0][0]        \n",
            "__________________________________________________________________________________________________\n",
            "conv5_block1_add (Add)          (None, 8, 8, 2048)   0           conv5_block1_0_bn[0][0]          \n",
            "                                                                 conv5_block1_3_bn[0][0]          \n",
            "__________________________________________________________________________________________________\n",
            "conv5_block1_out (Activation)   (None, 8, 8, 2048)   0           conv5_block1_add[0][0]           \n",
            "__________________________________________________________________________________________________\n",
            "conv5_block2_1_conv (Conv2D)    (None, 8, 8, 512)    1049088     conv5_block1_out[0][0]           \n",
            "__________________________________________________________________________________________________\n",
            "conv5_block2_1_bn (BatchNormali (None, 8, 8, 512)    2048        conv5_block2_1_conv[0][0]        \n",
            "__________________________________________________________________________________________________\n",
            "conv5_block2_1_relu (Activation (None, 8, 8, 512)    0           conv5_block2_1_bn[0][0]          \n",
            "__________________________________________________________________________________________________\n",
            "conv5_block2_2_conv (Conv2D)    (None, 8, 8, 512)    2359808     conv5_block2_1_relu[0][0]        \n",
            "__________________________________________________________________________________________________\n",
            "conv5_block2_2_bn (BatchNormali (None, 8, 8, 512)    2048        conv5_block2_2_conv[0][0]        \n",
            "__________________________________________________________________________________________________\n",
            "conv5_block2_2_relu (Activation (None, 8, 8, 512)    0           conv5_block2_2_bn[0][0]          \n",
            "__________________________________________________________________________________________________\n",
            "conv5_block2_3_conv (Conv2D)    (None, 8, 8, 2048)   1050624     conv5_block2_2_relu[0][0]        \n",
            "__________________________________________________________________________________________________\n",
            "conv5_block2_3_bn (BatchNormali (None, 8, 8, 2048)   8192        conv5_block2_3_conv[0][0]        \n",
            "__________________________________________________________________________________________________\n",
            "conv5_block2_add (Add)          (None, 8, 8, 2048)   0           conv5_block1_out[0][0]           \n",
            "                                                                 conv5_block2_3_bn[0][0]          \n",
            "__________________________________________________________________________________________________\n",
            "conv5_block2_out (Activation)   (None, 8, 8, 2048)   0           conv5_block2_add[0][0]           \n",
            "__________________________________________________________________________________________________\n",
            "conv5_block3_1_conv (Conv2D)    (None, 8, 8, 512)    1049088     conv5_block2_out[0][0]           \n",
            "__________________________________________________________________________________________________\n",
            "conv5_block3_1_bn (BatchNormali (None, 8, 8, 512)    2048        conv5_block3_1_conv[0][0]        \n",
            "__________________________________________________________________________________________________\n",
            "conv5_block3_1_relu (Activation (None, 8, 8, 512)    0           conv5_block3_1_bn[0][0]          \n",
            "__________________________________________________________________________________________________\n",
            "conv5_block3_2_conv (Conv2D)    (None, 8, 8, 512)    2359808     conv5_block3_1_relu[0][0]        \n",
            "__________________________________________________________________________________________________\n",
            "conv5_block3_2_bn (BatchNormali (None, 8, 8, 512)    2048        conv5_block3_2_conv[0][0]        \n",
            "__________________________________________________________________________________________________\n",
            "conv5_block3_2_relu (Activation (None, 8, 8, 512)    0           conv5_block3_2_bn[0][0]          \n",
            "__________________________________________________________________________________________________\n",
            "conv5_block3_3_conv (Conv2D)    (None, 8, 8, 2048)   1050624     conv5_block3_2_relu[0][0]        \n",
            "__________________________________________________________________________________________________\n",
            "conv5_block3_3_bn (BatchNormali (None, 8, 8, 2048)   8192        conv5_block3_3_conv[0][0]        \n",
            "__________________________________________________________________________________________________\n",
            "conv5_block3_add (Add)          (None, 8, 8, 2048)   0           conv5_block2_out[0][0]           \n",
            "                                                                 conv5_block3_3_bn[0][0]          \n",
            "__________________________________________________________________________________________________\n",
            "conv5_block3_out (Activation)   (None, 8, 8, 2048)   0           conv5_block3_add[0][0]           \n",
            "__________________________________________________________________________________________________\n",
            "avg_pool (GlobalAveragePooling2 (None, 2048)         0           conv5_block3_out[0][0]           \n",
            "__________________________________________________________________________________________________\n",
            "dense_13 (Dense)                (None, 4)            8196        avg_pool[0][0]                   \n",
            "==================================================================================================\n",
            "Total params: 23,595,908\n",
            "Trainable params: 8,196\n",
            "Non-trainable params: 23,587,712\n",
            "__________________________________________________________________________________________________\n"
          ],
          "name": "stdout"
        }
      ]
    },
    {
      "cell_type": "code",
      "metadata": {
        "colab": {
          "base_uri": "https://localhost:8080/"
        },
        "id": "6uEf_q3ndjsP",
        "outputId": "0a505c11-9aa9-43d8-8eba-1ea91990c74e"
      },
      "source": [
        "history_resnet_pre2 = model_resnet_pre2.fit(x_train, y_train, validation_split=0.1, epochs=25, batch_size=4, verbose=2, shuffle=True)"
      ],
      "execution_count": null,
      "outputs": [
        {
          "output_type": "stream",
          "text": [
            "Epoch 1/25\n",
            "108/108 - 6s - loss: 1.7678 - categorical_accuracy: 0.3660 - val_loss: 1.6952 - val_categorical_accuracy: 0.4583\n",
            "Epoch 2/25\n",
            "108/108 - 2s - loss: 1.7886 - categorical_accuracy: 0.3730 - val_loss: 2.3216 - val_categorical_accuracy: 0.4583\n",
            "Epoch 3/25\n",
            "108/108 - 2s - loss: 1.9932 - categorical_accuracy: 0.3893 - val_loss: 2.1888 - val_categorical_accuracy: 0.4583\n",
            "Epoch 4/25\n",
            "108/108 - 2s - loss: 1.7921 - categorical_accuracy: 0.3800 - val_loss: 1.7287 - val_categorical_accuracy: 0.4583\n",
            "Epoch 5/25\n",
            "108/108 - 2s - loss: 1.7991 - categorical_accuracy: 0.3497 - val_loss: 2.6622 - val_categorical_accuracy: 0.4583\n",
            "Epoch 6/25\n",
            "108/108 - 2s - loss: 1.9448 - categorical_accuracy: 0.3800 - val_loss: 1.9296 - val_categorical_accuracy: 0.1042\n",
            "Epoch 7/25\n",
            "108/108 - 2s - loss: 1.8201 - categorical_accuracy: 0.3497 - val_loss: 1.6181 - val_categorical_accuracy: 0.3125\n",
            "Epoch 8/25\n",
            "108/108 - 2s - loss: 1.8105 - categorical_accuracy: 0.3753 - val_loss: 1.9200 - val_categorical_accuracy: 0.4583\n",
            "Epoch 9/25\n",
            "108/108 - 2s - loss: 1.6976 - categorical_accuracy: 0.3660 - val_loss: 2.7375 - val_categorical_accuracy: 0.4583\n",
            "Epoch 10/25\n",
            "108/108 - 2s - loss: 1.5711 - categorical_accuracy: 0.4079 - val_loss: 1.2463 - val_categorical_accuracy: 0.4583\n",
            "Epoch 11/25\n",
            "108/108 - 2s - loss: 1.7629 - categorical_accuracy: 0.4103 - val_loss: 2.1452 - val_categorical_accuracy: 0.4583\n",
            "Epoch 12/25\n",
            "108/108 - 2s - loss: 1.8496 - categorical_accuracy: 0.4103 - val_loss: 2.3487 - val_categorical_accuracy: 0.4583\n",
            "Epoch 13/25\n",
            "108/108 - 2s - loss: 1.6419 - categorical_accuracy: 0.3986 - val_loss: 1.9161 - val_categorical_accuracy: 0.4583\n",
            "Epoch 14/25\n",
            "108/108 - 2s - loss: 1.8785 - categorical_accuracy: 0.3357 - val_loss: 2.5798 - val_categorical_accuracy: 0.4583\n",
            "Epoch 15/25\n",
            "108/108 - 2s - loss: 1.9970 - categorical_accuracy: 0.3450 - val_loss: 1.3641 - val_categorical_accuracy: 0.4583\n",
            "Epoch 16/25\n",
            "108/108 - 2s - loss: 1.7343 - categorical_accuracy: 0.3706 - val_loss: 1.5200 - val_categorical_accuracy: 0.4583\n",
            "Epoch 17/25\n",
            "108/108 - 2s - loss: 1.8381 - categorical_accuracy: 0.3730 - val_loss: 1.8836 - val_categorical_accuracy: 0.4583\n",
            "Epoch 18/25\n",
            "108/108 - 2s - loss: 1.8897 - categorical_accuracy: 0.4289 - val_loss: 1.3450 - val_categorical_accuracy: 0.4583\n",
            "Epoch 19/25\n",
            "108/108 - 2s - loss: 1.7977 - categorical_accuracy: 0.4033 - val_loss: 1.7925 - val_categorical_accuracy: 0.4583\n",
            "Epoch 20/25\n",
            "108/108 - 2s - loss: 1.9268 - categorical_accuracy: 0.3683 - val_loss: 2.0638 - val_categorical_accuracy: 0.3125\n",
            "Epoch 21/25\n",
            "108/108 - 2s - loss: 1.8635 - categorical_accuracy: 0.3706 - val_loss: 1.8374 - val_categorical_accuracy: 0.1042\n",
            "Epoch 22/25\n",
            "108/108 - 2s - loss: 1.9558 - categorical_accuracy: 0.4009 - val_loss: 2.3401 - val_categorical_accuracy: 0.4583\n",
            "Epoch 23/25\n",
            "108/108 - 2s - loss: 1.9260 - categorical_accuracy: 0.3823 - val_loss: 2.2320 - val_categorical_accuracy: 0.4583\n",
            "Epoch 24/25\n",
            "108/108 - 2s - loss: 1.6203 - categorical_accuracy: 0.3916 - val_loss: 1.8635 - val_categorical_accuracy: 0.4583\n",
            "Epoch 25/25\n",
            "108/108 - 2s - loss: 1.6571 - categorical_accuracy: 0.3543 - val_loss: 2.1485 - val_categorical_accuracy: 0.4583\n"
          ],
          "name": "stdout"
        }
      ]
    },
    {
      "cell_type": "code",
      "metadata": {
        "colab": {
          "base_uri": "https://localhost:8080/"
        },
        "id": "QWDNzpJXey3D",
        "outputId": "40132195-9f93-4a13-d50a-0b99628edd82"
      },
      "source": [
        "model_resnet_pre.evaluate(x_test, y_test)"
      ],
      "execution_count": null,
      "outputs": [
        {
          "output_type": "stream",
          "text": [
            "4/4 [==============================] - 0s 107ms/step - loss: 1.2236 - categorical_accuracy: 0.4917\n"
          ],
          "name": "stdout"
        },
        {
          "output_type": "execute_result",
          "data": {
            "text/plain": [
              "[1.2236008644104004, 0.49166667461395264]"
            ]
          },
          "metadata": {
            "tags": []
          },
          "execution_count": 60
        }
      ]
    },
    {
      "cell_type": "markdown",
      "metadata": {
        "id": "Qu1DOb6LGJYX"
      },
      "source": [
        "### VGG from scratch"
      ]
    },
    {
      "cell_type": "code",
      "metadata": {
        "colab": {
          "base_uri": "https://localhost:8080/"
        },
        "id": "Vx95BdAtG8N_",
        "outputId": "5937a840-9cac-40e2-a390-9b55a5e7676a"
      },
      "source": [
        "base_model_scratch = VGG16(weights=None, include_top=False, input_shape=(256, 256, 3))\n",
        "x = base_model_scratch.output\n",
        "x = Flatten()(x)\n",
        "x = Dense(512, activation='relu')(x)\n",
        "#x = Dense(4096, activation='relu')(x)\n",
        "prediction = Dense(4, activation='softmax')(x)\n",
        "\n",
        "model_vgg_scratch = Model(base_model_scratch.input,prediction)\n",
        "# for layer in base_model.layers:\n",
        "#   layer.trainable = False\n",
        "\n",
        "model_vgg_scratch.compile(optimizer = keras.optimizers.Adam(0.00003), loss = 'categorical_crossentropy', metrics=[keras.metrics.CategoricalAccuracy()])\n",
        "\n",
        "model_vgg_scratch.summary()"
      ],
      "execution_count": null,
      "outputs": [
        {
          "output_type": "stream",
          "text": [
            "Model: \"model\"\n",
            "_________________________________________________________________\n",
            "Layer (type)                 Output Shape              Param #   \n",
            "=================================================================\n",
            "input_1 (InputLayer)         [(None, 256, 256, 3)]     0         \n",
            "_________________________________________________________________\n",
            "block1_conv1 (Conv2D)        (None, 256, 256, 64)      1792      \n",
            "_________________________________________________________________\n",
            "block1_conv2 (Conv2D)        (None, 256, 256, 64)      36928     \n",
            "_________________________________________________________________\n",
            "block1_pool (MaxPooling2D)   (None, 128, 128, 64)      0         \n",
            "_________________________________________________________________\n",
            "block2_conv1 (Conv2D)        (None, 128, 128, 128)     73856     \n",
            "_________________________________________________________________\n",
            "block2_conv2 (Conv2D)        (None, 128, 128, 128)     147584    \n",
            "_________________________________________________________________\n",
            "block2_pool (MaxPooling2D)   (None, 64, 64, 128)       0         \n",
            "_________________________________________________________________\n",
            "block3_conv1 (Conv2D)        (None, 64, 64, 256)       295168    \n",
            "_________________________________________________________________\n",
            "block3_conv2 (Conv2D)        (None, 64, 64, 256)       590080    \n",
            "_________________________________________________________________\n",
            "block3_conv3 (Conv2D)        (None, 64, 64, 256)       590080    \n",
            "_________________________________________________________________\n",
            "block3_pool (MaxPooling2D)   (None, 32, 32, 256)       0         \n",
            "_________________________________________________________________\n",
            "block4_conv1 (Conv2D)        (None, 32, 32, 512)       1180160   \n",
            "_________________________________________________________________\n",
            "block4_conv2 (Conv2D)        (None, 32, 32, 512)       2359808   \n",
            "_________________________________________________________________\n",
            "block4_conv3 (Conv2D)        (None, 32, 32, 512)       2359808   \n",
            "_________________________________________________________________\n",
            "block4_pool (MaxPooling2D)   (None, 16, 16, 512)       0         \n",
            "_________________________________________________________________\n",
            "block5_conv1 (Conv2D)        (None, 16, 16, 512)       2359808   \n",
            "_________________________________________________________________\n",
            "block5_conv2 (Conv2D)        (None, 16, 16, 512)       2359808   \n",
            "_________________________________________________________________\n",
            "block5_conv3 (Conv2D)        (None, 16, 16, 512)       2359808   \n",
            "_________________________________________________________________\n",
            "block5_pool (MaxPooling2D)   (None, 8, 8, 512)         0         \n",
            "_________________________________________________________________\n",
            "flatten (Flatten)            (None, 32768)             0         \n",
            "_________________________________________________________________\n",
            "dense (Dense)                (None, 512)               16777728  \n",
            "_________________________________________________________________\n",
            "dense_1 (Dense)              (None, 4)                 2052      \n",
            "=================================================================\n",
            "Total params: 31,494,468\n",
            "Trainable params: 31,494,468\n",
            "Non-trainable params: 0\n",
            "_________________________________________________________________\n"
          ],
          "name": "stdout"
        }
      ]
    },
    {
      "cell_type": "code",
      "metadata": {
        "colab": {
          "base_uri": "https://localhost:8080/"
        },
        "id": "UlM_TPrmJAOl",
        "outputId": "44a90a06-4c58-48f2-eee6-ffc66e829ca4"
      },
      "source": [
        "history_vgg_scratch = model_vgg_scratch.fit(x_train, y_train, validation_split=0.1, epochs=50, batch_size=32, verbose=2) # tried batch_size of 16, 8, 4"
      ],
      "execution_count": null,
      "outputs": [
        {
          "output_type": "stream",
          "text": [
            "Epoch 1/50\n",
            "14/14 - 72s - loss: 1.3248 - categorical_accuracy: 0.4662 - val_loss: 1.2333 - val_categorical_accuracy: 0.4583\n",
            "Epoch 2/50\n",
            "14/14 - 13s - loss: 1.2574 - categorical_accuracy: 0.4965 - val_loss: 1.2192 - val_categorical_accuracy: 0.4583\n",
            "Epoch 3/50\n",
            "14/14 - 13s - loss: 1.2471 - categorical_accuracy: 0.4965 - val_loss: 1.2234 - val_categorical_accuracy: 0.4583\n",
            "Epoch 4/50\n",
            "14/14 - 13s - loss: 1.2420 - categorical_accuracy: 0.4965 - val_loss: 1.2501 - val_categorical_accuracy: 0.4583\n",
            "Epoch 5/50\n",
            "14/14 - 13s - loss: 1.2658 - categorical_accuracy: 0.4965 - val_loss: 1.2388 - val_categorical_accuracy: 0.4583\n",
            "Epoch 6/50\n",
            "14/14 - 13s - loss: 1.2448 - categorical_accuracy: 0.4965 - val_loss: 1.2463 - val_categorical_accuracy: 0.4583\n",
            "Epoch 7/50\n",
            "14/14 - 13s - loss: 1.2445 - categorical_accuracy: 0.4988 - val_loss: 1.2271 - val_categorical_accuracy: 0.4583\n",
            "Epoch 8/50\n",
            "14/14 - 13s - loss: 1.2238 - categorical_accuracy: 0.4988 - val_loss: 1.2055 - val_categorical_accuracy: 0.4583\n",
            "Epoch 9/50\n",
            "14/14 - 13s - loss: 1.2073 - categorical_accuracy: 0.4988 - val_loss: 1.2161 - val_categorical_accuracy: 0.4583\n",
            "Epoch 10/50\n",
            "14/14 - 13s - loss: 1.1833 - categorical_accuracy: 0.5058 - val_loss: 1.1911 - val_categorical_accuracy: 0.5208\n",
            "Epoch 11/50\n",
            "14/14 - 13s - loss: 1.1667 - categorical_accuracy: 0.5245 - val_loss: 1.2039 - val_categorical_accuracy: 0.5208\n",
            "Epoch 12/50\n",
            "14/14 - 13s - loss: 1.1795 - categorical_accuracy: 0.5408 - val_loss: 1.1876 - val_categorical_accuracy: 0.5417\n",
            "Epoch 13/50\n",
            "14/14 - 13s - loss: 1.1523 - categorical_accuracy: 0.5431 - val_loss: 1.1940 - val_categorical_accuracy: 0.5000\n",
            "Epoch 14/50\n",
            "14/14 - 13s - loss: 1.1208 - categorical_accuracy: 0.5524 - val_loss: 1.1979 - val_categorical_accuracy: 0.5208\n",
            "Epoch 15/50\n",
            "14/14 - 13s - loss: 1.1197 - categorical_accuracy: 0.5315 - val_loss: 1.1932 - val_categorical_accuracy: 0.5208\n",
            "Epoch 16/50\n",
            "14/14 - 13s - loss: 1.0864 - categorical_accuracy: 0.5548 - val_loss: 1.1747 - val_categorical_accuracy: 0.4792\n",
            "Epoch 17/50\n",
            "14/14 - 13s - loss: 1.0641 - categorical_accuracy: 0.5664 - val_loss: 1.2429 - val_categorical_accuracy: 0.5208\n",
            "Epoch 18/50\n",
            "14/14 - 13s - loss: 1.0499 - categorical_accuracy: 0.5688 - val_loss: 1.2509 - val_categorical_accuracy: 0.5000\n",
            "Epoch 19/50\n",
            "14/14 - 13s - loss: 1.0342 - categorical_accuracy: 0.5851 - val_loss: 1.2768 - val_categorical_accuracy: 0.5000\n",
            "Epoch 20/50\n",
            "14/14 - 13s - loss: 1.0004 - categorical_accuracy: 0.5571 - val_loss: 1.2153 - val_categorical_accuracy: 0.5833\n",
            "Epoch 21/50\n",
            "14/14 - 13s - loss: 0.9743 - categorical_accuracy: 0.6084 - val_loss: 1.2455 - val_categorical_accuracy: 0.4792\n",
            "Epoch 22/50\n",
            "14/14 - 13s - loss: 0.9338 - categorical_accuracy: 0.6154 - val_loss: 1.3509 - val_categorical_accuracy: 0.4792\n",
            "Epoch 23/50\n",
            "14/14 - 13s - loss: 0.8795 - categorical_accuracy: 0.6527 - val_loss: 1.3830 - val_categorical_accuracy: 0.5208\n",
            "Epoch 24/50\n",
            "14/14 - 13s - loss: 0.8388 - categorical_accuracy: 0.6713 - val_loss: 1.3306 - val_categorical_accuracy: 0.4375\n",
            "Epoch 25/50\n",
            "14/14 - 13s - loss: 0.8601 - categorical_accuracy: 0.6270 - val_loss: 1.4181 - val_categorical_accuracy: 0.4583\n",
            "Epoch 26/50\n",
            "14/14 - 13s - loss: 0.7620 - categorical_accuracy: 0.7226 - val_loss: 1.4883 - val_categorical_accuracy: 0.5417\n",
            "Epoch 27/50\n",
            "14/14 - 13s - loss: 0.6836 - categorical_accuracy: 0.7249 - val_loss: 1.6149 - val_categorical_accuracy: 0.4583\n",
            "Epoch 28/50\n",
            "14/14 - 13s - loss: 0.5928 - categorical_accuracy: 0.7692 - val_loss: 1.6559 - val_categorical_accuracy: 0.4375\n",
            "Epoch 29/50\n",
            "14/14 - 13s - loss: 0.4816 - categorical_accuracy: 0.8392 - val_loss: 1.9404 - val_categorical_accuracy: 0.4583\n",
            "Epoch 30/50\n",
            "14/14 - 13s - loss: 0.5084 - categorical_accuracy: 0.7855 - val_loss: 1.7163 - val_categorical_accuracy: 0.4792\n",
            "Epoch 31/50\n",
            "14/14 - 13s - loss: 0.4544 - categorical_accuracy: 0.8462 - val_loss: 1.9890 - val_categorical_accuracy: 0.4167\n",
            "Epoch 32/50\n",
            "14/14 - 13s - loss: 0.3131 - categorical_accuracy: 0.8765 - val_loss: 3.4439 - val_categorical_accuracy: 0.4583\n",
            "Epoch 33/50\n",
            "14/14 - 13s - loss: 0.3331 - categorical_accuracy: 0.8765 - val_loss: 2.3256 - val_categorical_accuracy: 0.4792\n",
            "Epoch 34/50\n",
            "14/14 - 13s - loss: 0.2248 - categorical_accuracy: 0.9254 - val_loss: 2.7369 - val_categorical_accuracy: 0.5000\n",
            "Epoch 35/50\n",
            "14/14 - 13s - loss: 0.2121 - categorical_accuracy: 0.9207 - val_loss: 2.9293 - val_categorical_accuracy: 0.5417\n",
            "Epoch 36/50\n",
            "14/14 - 13s - loss: 0.2166 - categorical_accuracy: 0.9021 - val_loss: 2.9064 - val_categorical_accuracy: 0.5000\n",
            "Epoch 37/50\n",
            "14/14 - 13s - loss: 0.2167 - categorical_accuracy: 0.9254 - val_loss: 2.6157 - val_categorical_accuracy: 0.4167\n",
            "Epoch 38/50\n",
            "14/14 - 13s - loss: 0.1141 - categorical_accuracy: 0.9674 - val_loss: 3.6273 - val_categorical_accuracy: 0.4792\n",
            "Epoch 39/50\n",
            "14/14 - 13s - loss: 0.0906 - categorical_accuracy: 0.9650 - val_loss: 3.9956 - val_categorical_accuracy: 0.5208\n",
            "Epoch 40/50\n",
            "14/14 - 13s - loss: 0.0856 - categorical_accuracy: 0.9650 - val_loss: 4.1584 - val_categorical_accuracy: 0.4583\n",
            "Epoch 41/50\n",
            "14/14 - 13s - loss: 0.0844 - categorical_accuracy: 0.9744 - val_loss: 4.1067 - val_categorical_accuracy: 0.4792\n",
            "Epoch 42/50\n",
            "14/14 - 13s - loss: 0.0517 - categorical_accuracy: 0.9814 - val_loss: 5.1611 - val_categorical_accuracy: 0.4167\n",
            "Epoch 43/50\n",
            "14/14 - 13s - loss: 0.1394 - categorical_accuracy: 0.9371 - val_loss: 3.6919 - val_categorical_accuracy: 0.4792\n",
            "Epoch 44/50\n",
            "14/14 - 13s - loss: 0.2134 - categorical_accuracy: 0.9371 - val_loss: 3.2281 - val_categorical_accuracy: 0.4792\n",
            "Epoch 45/50\n",
            "14/14 - 13s - loss: 0.1287 - categorical_accuracy: 0.9697 - val_loss: 3.5186 - val_categorical_accuracy: 0.5208\n",
            "Epoch 46/50\n",
            "14/14 - 13s - loss: 0.0392 - categorical_accuracy: 0.9907 - val_loss: 4.4298 - val_categorical_accuracy: 0.4792\n",
            "Epoch 47/50\n",
            "14/14 - 13s - loss: 0.0160 - categorical_accuracy: 0.9953 - val_loss: 6.3668 - val_categorical_accuracy: 0.4792\n",
            "Epoch 48/50\n",
            "14/14 - 13s - loss: 0.0363 - categorical_accuracy: 0.9930 - val_loss: 5.0140 - val_categorical_accuracy: 0.5000\n",
            "Epoch 49/50\n",
            "14/14 - 13s - loss: 0.0452 - categorical_accuracy: 0.9837 - val_loss: 4.7191 - val_categorical_accuracy: 0.4375\n",
            "Epoch 50/50\n",
            "14/14 - 13s - loss: 0.0301 - categorical_accuracy: 0.9860 - val_loss: 5.3509 - val_categorical_accuracy: 0.4583\n"
          ],
          "name": "stdout"
        }
      ]
    },
    {
      "cell_type": "code",
      "metadata": {
        "colab": {
          "base_uri": "https://localhost:8080/"
        },
        "id": "hZWZSUwA7_wn",
        "outputId": "d7168522-4b35-4004-a94c-3a12a7704533"
      },
      "source": [
        "model_vgg_scratch.evaluate(x_test, y_test)"
      ],
      "execution_count": null,
      "outputs": [
        {
          "output_type": "stream",
          "text": [
            "4/4 [==============================] - 10s 3s/step - loss: 5.4445 - categorical_accuracy: 0.4500\n"
          ],
          "name": "stdout"
        },
        {
          "output_type": "execute_result",
          "data": {
            "text/plain": [
              "[5.4445366859436035, 0.44999998807907104]"
            ]
          },
          "metadata": {
            "tags": []
          },
          "execution_count": 10
        }
      ]
    },
    {
      "cell_type": "code",
      "metadata": {
        "colab": {
          "base_uri": "https://localhost:8080/"
        },
        "id": "ZqEnADRO8UAv",
        "outputId": "783c8b67-00d6-46e6-98b4-ce189cf9cbef"
      },
      "source": [
        "pred = model_vgg_scratch.predict(x_test)\n",
        "pred = np.argmax(pred,axis=-1)\n",
        "true_labels = np.argmax(y_test,axis=-1)\n",
        "test_results = list(precision_recall_fscore_support(true_labels, pred, average = 'macro')[:-1])\n",
        "test_results"
      ],
      "execution_count": null,
      "outputs": [
        {
          "output_type": "execute_result",
          "data": {
            "text/plain": [
              "[0.3787426653805964, 0.3715555713810948, 0.3748103748103748]"
            ]
          },
          "metadata": {
            "tags": []
          },
          "execution_count": 12
        }
      ]
    },
    {
      "cell_type": "markdown",
      "metadata": {
        "id": "TUow-m0qo4W8"
      },
      "source": [
        "### Inception"
      ]
    },
    {
      "cell_type": "code",
      "metadata": {
        "id": "fTZnB0yCezha"
      },
      "source": [
        "path_var = '/content/drive/MyDrive/project_data/' \n",
        "images = np.load(path_var + 'images_origin.npy')\n",
        "labels = np.load(path_var + 'labels.npy')"
      ],
      "execution_count": null,
      "outputs": []
    },
    {
      "cell_type": "code",
      "metadata": {
        "id": "i09efAKtqq0g"
      },
      "source": [
        "x_train, x_test, y_train, y_test = train_test_split(images, labels.astype(int), test_size=0.2, random_state=42, stratify=labels.astype(int))\n",
        "y_train = keras.utils.to_categorical(y_train, 4)\n",
        "y_test = keras.utils.to_categorical(y_test, 4)"
      ],
      "execution_count": null,
      "outputs": []
    },
    {
      "cell_type": "code",
      "metadata": {
        "id": "S3VRBZGipFeg"
      },
      "source": [
        "def add_new_last_layer(base_model, nb_classes):\n",
        "  x = base_model.output\n",
        "  x = keras.layers.GlobalAveragePooling2D()(x)\n",
        "  x = Dense(256, activation='relu')(x) #new FC layer, random init\n",
        "  predictions = Dense(nb_classes, activation='softmax')(x) #new softmax layer\n",
        "  model = Model(base_model.input, predictions)\n",
        "  return model"
      ],
      "execution_count": null,
      "outputs": []
    },
    {
      "cell_type": "code",
      "metadata": {
        "id": "p0DpGEEopZZ2"
      },
      "source": [
        "def setup_to_transfer_learn(model, base_model):\n",
        "  \"\"\"Freeze all layers and compile the model\"\"\"\n",
        "  for layer in base_model.layers:\n",
        "    layer.trainable = False\n",
        "  model.compile(optimizer='adam', loss='categorical_crossentropy', metrics=['accuracy'])"
      ],
      "execution_count": null,
      "outputs": []
    },
    {
      "cell_type": "code",
      "metadata": {
        "id": "LRYQmrvhpeT0",
        "colab": {
          "base_uri": "https://localhost:8080/"
        },
        "outputId": "b71203c3-e4f1-42c8-8833-a43528fb5f38"
      },
      "source": [
        "base_model = InceptionV3(weights='imagenet', include_top=False) \n",
        "model = add_new_last_layer(base_model, 4)              \n",
        "setup_to_transfer_learn(model, base_model)"
      ],
      "execution_count": null,
      "outputs": [
        {
          "output_type": "stream",
          "text": [
            "Downloading data from https://storage.googleapis.com/tensorflow/keras-applications/inception_v3/inception_v3_weights_tf_dim_ordering_tf_kernels_notop.h5\n",
            "87916544/87910968 [==============================] - 1s 0us/step\n"
          ],
          "name": "stdout"
        }
      ]
    },
    {
      "cell_type": "code",
      "metadata": {
        "colab": {
          "base_uri": "https://localhost:8080/"
        },
        "id": "XshTjP5Xqgye",
        "outputId": "4a8c4819-787a-4102-97b2-fb13704cc836"
      },
      "source": [
        "history_inception = model.fit(x_train, y_train, epochs=25, batch_size=4, validation_split=0.1)"
      ],
      "execution_count": null,
      "outputs": [
        {
          "output_type": "stream",
          "text": [
            "Epoch 1/25\n",
            "108/108 [==============================] - 14s 76ms/step - loss: 1.8103 - accuracy: 0.4576 - val_loss: 1.0609 - val_accuracy: 0.5417\n",
            "Epoch 2/25\n",
            "108/108 [==============================] - 6s 57ms/step - loss: 0.9532 - accuracy: 0.6311 - val_loss: 0.9377 - val_accuracy: 0.5417\n",
            "Epoch 3/25\n",
            "108/108 [==============================] - 6s 56ms/step - loss: 0.7117 - accuracy: 0.7123 - val_loss: 1.0878 - val_accuracy: 0.5417\n",
            "Epoch 4/25\n",
            "108/108 [==============================] - 6s 57ms/step - loss: 0.5943 - accuracy: 0.7896 - val_loss: 0.9798 - val_accuracy: 0.6042\n",
            "Epoch 5/25\n",
            "108/108 [==============================] - 6s 57ms/step - loss: 0.5564 - accuracy: 0.8102 - val_loss: 1.2816 - val_accuracy: 0.5417\n",
            "Epoch 6/25\n",
            "108/108 [==============================] - 6s 56ms/step - loss: 0.4781 - accuracy: 0.8049 - val_loss: 1.0453 - val_accuracy: 0.6042\n",
            "Epoch 7/25\n",
            "108/108 [==============================] - 6s 57ms/step - loss: 0.3021 - accuracy: 0.9045 - val_loss: 1.6277 - val_accuracy: 0.5625\n",
            "Epoch 8/25\n",
            "108/108 [==============================] - 6s 57ms/step - loss: 0.5166 - accuracy: 0.7957 - val_loss: 1.1287 - val_accuracy: 0.5833\n",
            "Epoch 9/25\n",
            "108/108 [==============================] - 6s 57ms/step - loss: 0.2566 - accuracy: 0.9368 - val_loss: 1.3965 - val_accuracy: 0.5000\n",
            "Epoch 10/25\n",
            "108/108 [==============================] - 6s 57ms/step - loss: 0.1729 - accuracy: 0.9628 - val_loss: 1.4316 - val_accuracy: 0.6250\n",
            "Epoch 11/25\n",
            "108/108 [==============================] - 6s 57ms/step - loss: 0.1313 - accuracy: 0.9616 - val_loss: 1.2251 - val_accuracy: 0.6042\n",
            "Epoch 12/25\n",
            "108/108 [==============================] - 6s 57ms/step - loss: 0.1989 - accuracy: 0.9394 - val_loss: 1.5790 - val_accuracy: 0.5625\n",
            "Epoch 13/25\n",
            "108/108 [==============================] - 6s 57ms/step - loss: 0.1066 - accuracy: 0.9702 - val_loss: 1.4845 - val_accuracy: 0.5625\n",
            "Epoch 14/25\n",
            "108/108 [==============================] - 6s 58ms/step - loss: 0.1752 - accuracy: 0.9376 - val_loss: 1.8311 - val_accuracy: 0.5625\n",
            "Epoch 15/25\n",
            "108/108 [==============================] - 6s 58ms/step - loss: 0.0877 - accuracy: 0.9940 - val_loss: 1.6704 - val_accuracy: 0.5833\n",
            "Epoch 16/25\n",
            "108/108 [==============================] - 6s 58ms/step - loss: 0.0788 - accuracy: 0.9735 - val_loss: 1.5924 - val_accuracy: 0.6250\n",
            "Epoch 17/25\n",
            "108/108 [==============================] - 6s 58ms/step - loss: 0.0306 - accuracy: 1.0000 - val_loss: 1.7070 - val_accuracy: 0.5417\n",
            "Epoch 18/25\n",
            "108/108 [==============================] - 6s 58ms/step - loss: 0.0222 - accuracy: 0.9992 - val_loss: 1.5819 - val_accuracy: 0.6042\n",
            "Epoch 19/25\n",
            "108/108 [==============================] - 6s 58ms/step - loss: 0.0250 - accuracy: 0.9979 - val_loss: 1.6403 - val_accuracy: 0.5208\n",
            "Epoch 20/25\n",
            "108/108 [==============================] - 6s 58ms/step - loss: 0.0135 - accuracy: 1.0000 - val_loss: 1.7318 - val_accuracy: 0.5208\n",
            "Epoch 21/25\n",
            "108/108 [==============================] - 6s 58ms/step - loss: 0.0115 - accuracy: 1.0000 - val_loss: 1.8882 - val_accuracy: 0.5000\n",
            "Epoch 22/25\n",
            "108/108 [==============================] - 6s 58ms/step - loss: 0.0118 - accuracy: 1.0000 - val_loss: 1.7574 - val_accuracy: 0.5208\n",
            "Epoch 23/25\n",
            "108/108 [==============================] - 6s 58ms/step - loss: 0.0116 - accuracy: 1.0000 - val_loss: 1.8569 - val_accuracy: 0.6042\n",
            "Epoch 24/25\n",
            "108/108 [==============================] - 6s 58ms/step - loss: 0.0085 - accuracy: 1.0000 - val_loss: 1.9077 - val_accuracy: 0.5208\n",
            "Epoch 25/25\n",
            "108/108 [==============================] - 6s 58ms/step - loss: 0.0064 - accuracy: 1.0000 - val_loss: 1.8228 - val_accuracy: 0.5208\n"
          ],
          "name": "stdout"
        }
      ]
    },
    {
      "cell_type": "code",
      "metadata": {
        "colab": {
          "base_uri": "https://localhost:8080/"
        },
        "id": "cYS1qTMZ_SfC",
        "outputId": "6d180b46-c021-4705-e0ba-7e76f78f60f4"
      },
      "source": [
        "model.evaluate(x_test, y_test)"
      ],
      "execution_count": null,
      "outputs": [
        {
          "output_type": "stream",
          "text": [
            "4/4 [==============================] - 6s 782ms/step - loss: 1.5983 - accuracy: 0.6583\n"
          ],
          "name": "stdout"
        },
        {
          "output_type": "execute_result",
          "data": {
            "text/plain": [
              "[1.5982508659362793, 0.6583333611488342]"
            ]
          },
          "metadata": {
            "tags": []
          },
          "execution_count": 17
        }
      ]
    },
    {
      "cell_type": "code",
      "metadata": {
        "colab": {
          "base_uri": "https://localhost:8080/"
        },
        "id": "m4AmXp5J_lVI",
        "outputId": "4bca7581-cfd8-4d4d-80b7-752172bc9d47"
      },
      "source": [
        "pred_in = model.predict(x_test)\n",
        "pred_in = np.argmax(pred_in,axis=-1)\n",
        "true_labels = np.argmax(y_test,axis=-1)\n",
        "test_results = list(precision_recall_fscore_support(true_labels, pred_in, average = 'macro')[:-1])\n",
        "test_results"
      ],
      "execution_count": null,
      "outputs": [
        {
          "output_type": "execute_result",
          "data": {
            "text/plain": [
              "[0.6071694006476616, 0.6134394435740398, 0.6065628035445868]"
            ]
          },
          "metadata": {
            "tags": []
          },
          "execution_count": 18
        }
      ]
    },
    {
      "cell_type": "code",
      "metadata": {
        "id": "Y5_K7zwdwJs8"
      },
      "source": [
        "def setup_to_finetune(model):\n",
        "  for layer in model.layers[:NB_IV3_LAYERS_TO_FREEZE]:\n",
        "     layer.trainable = False\n",
        "  for layer in model.layers[NB_IV3_LAYERS_TO_FREEZE:]:\n",
        "     layer.trainable = True\n",
        "  model.compile(keras.optimizers.SGD(lr=0.0001, momentum=0.9), loss='categorical_crossentropy', metrics=['accuracy'])\n"
      ],
      "execution_count": null,
      "outputs": []
    },
    {
      "cell_type": "code",
      "metadata": {
        "id": "LhO5X5BOwwuE"
      },
      "source": [
        "NB_IV3_LAYERS_TO_FREEZE = 172\n",
        "#base_model = InceptionV3(weights='imagenet', include_top=False)\n",
        "model_ince2 = add_new_last_layer(base_model, 4)             \n",
        "setup_to_finetune(model_ince2)"
      ],
      "execution_count": null,
      "outputs": []
    },
    {
      "cell_type": "code",
      "metadata": {
        "colab": {
          "base_uri": "https://localhost:8080/"
        },
        "id": "YhOra2sSxvfb",
        "outputId": "12bdd4b2-14c2-4a8b-c498-3e5c7fcbf1a7"
      },
      "source": [
        "history_inception2 = model_ince2.fit(x_train, y_train, epochs=25, batch_size=4, validation_split=0.1)"
      ],
      "execution_count": null,
      "outputs": [
        {
          "output_type": "stream",
          "text": [
            "Epoch 1/25\n",
            "108/108 [==============================] - 11s 54ms/step - loss: 1.3373 - accuracy: 0.3829 - val_loss: 1.2531 - val_accuracy: 0.4167\n",
            "Epoch 2/25\n",
            "108/108 [==============================] - 4s 39ms/step - loss: 1.1602 - accuracy: 0.4693 - val_loss: 1.2477 - val_accuracy: 0.4375\n",
            "Epoch 3/25\n",
            "108/108 [==============================] - 4s 39ms/step - loss: 1.0361 - accuracy: 0.5895 - val_loss: 1.2152 - val_accuracy: 0.4375\n",
            "Epoch 4/25\n",
            "108/108 [==============================] - 4s 39ms/step - loss: 0.9109 - accuracy: 0.6075 - val_loss: 1.1403 - val_accuracy: 0.4167\n",
            "Epoch 5/25\n",
            "108/108 [==============================] - 4s 39ms/step - loss: 0.8299 - accuracy: 0.6838 - val_loss: 1.1221 - val_accuracy: 0.4375\n",
            "Epoch 6/25\n",
            "108/108 [==============================] - 4s 39ms/step - loss: 0.7555 - accuracy: 0.7335 - val_loss: 1.0815 - val_accuracy: 0.4167\n",
            "Epoch 7/25\n",
            "108/108 [==============================] - 4s 39ms/step - loss: 0.6756 - accuracy: 0.8060 - val_loss: 1.0516 - val_accuracy: 0.5208\n",
            "Epoch 8/25\n",
            "108/108 [==============================] - 4s 39ms/step - loss: 0.6115 - accuracy: 0.7939 - val_loss: 1.0347 - val_accuracy: 0.5000\n",
            "Epoch 9/25\n",
            "108/108 [==============================] - 4s 39ms/step - loss: 0.5715 - accuracy: 0.8268 - val_loss: 1.0358 - val_accuracy: 0.4583\n",
            "Epoch 10/25\n",
            "108/108 [==============================] - 4s 39ms/step - loss: 0.5029 - accuracy: 0.8677 - val_loss: 1.0316 - val_accuracy: 0.5000\n",
            "Epoch 11/25\n",
            "108/108 [==============================] - 4s 39ms/step - loss: 0.3646 - accuracy: 0.9160 - val_loss: 1.0193 - val_accuracy: 0.4375\n",
            "Epoch 12/25\n",
            "108/108 [==============================] - 4s 39ms/step - loss: 0.4102 - accuracy: 0.9093 - val_loss: 1.0158 - val_accuracy: 0.5000\n",
            "Epoch 13/25\n",
            "108/108 [==============================] - 4s 40ms/step - loss: 0.2987 - accuracy: 0.9266 - val_loss: 1.0092 - val_accuracy: 0.4583\n",
            "Epoch 14/25\n",
            "108/108 [==============================] - 4s 39ms/step - loss: 0.2398 - accuracy: 0.9536 - val_loss: 1.0796 - val_accuracy: 0.5000\n",
            "Epoch 15/25\n",
            "108/108 [==============================] - 4s 40ms/step - loss: 0.2675 - accuracy: 0.9288 - val_loss: 1.0795 - val_accuracy: 0.5000\n",
            "Epoch 16/25\n",
            "108/108 [==============================] - 4s 40ms/step - loss: 0.2767 - accuracy: 0.9283 - val_loss: 1.0514 - val_accuracy: 0.5000\n",
            "Epoch 17/25\n",
            "108/108 [==============================] - 4s 40ms/step - loss: 0.1758 - accuracy: 0.9712 - val_loss: 1.0389 - val_accuracy: 0.5417\n",
            "Epoch 18/25\n",
            "108/108 [==============================] - 4s 40ms/step - loss: 0.1968 - accuracy: 0.9669 - val_loss: 1.0769 - val_accuracy: 0.5625\n",
            "Epoch 19/25\n",
            "108/108 [==============================] - 4s 40ms/step - loss: 0.1424 - accuracy: 0.9905 - val_loss: 1.0184 - val_accuracy: 0.5417\n",
            "Epoch 20/25\n",
            "108/108 [==============================] - 4s 40ms/step - loss: 0.1391 - accuracy: 0.9791 - val_loss: 1.0581 - val_accuracy: 0.5625\n",
            "Epoch 21/25\n",
            "108/108 [==============================] - 4s 40ms/step - loss: 0.1556 - accuracy: 0.9568 - val_loss: 1.0923 - val_accuracy: 0.5208\n",
            "Epoch 22/25\n",
            "108/108 [==============================] - 4s 40ms/step - loss: 0.1751 - accuracy: 0.9455 - val_loss: 1.0888 - val_accuracy: 0.5833\n",
            "Epoch 23/25\n",
            "108/108 [==============================] - 4s 40ms/step - loss: 0.1206 - accuracy: 0.9702 - val_loss: 1.0645 - val_accuracy: 0.5833\n",
            "Epoch 24/25\n",
            "108/108 [==============================] - 4s 40ms/step - loss: 0.1160 - accuracy: 0.9712 - val_loss: 1.1063 - val_accuracy: 0.5208\n",
            "Epoch 25/25\n",
            "108/108 [==============================] - 4s 40ms/step - loss: 0.2756 - accuracy: 0.9107 - val_loss: 1.1035 - val_accuracy: 0.5417\n"
          ],
          "name": "stdout"
        }
      ]
    }
  ]
}